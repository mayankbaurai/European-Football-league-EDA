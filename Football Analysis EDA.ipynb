{
 "cells": [
  {
   "cell_type": "code",
   "execution_count": 1,
   "metadata": {},
   "outputs": [],
   "source": [
    "import pandas as pd\n",
    "import numpy as np\n",
    "import matplotlib.pyplot as plt\n",
    "import seaborn as sns\n",
    "sns.set()"
   ]
  },
  {
   "cell_type": "code",
   "execution_count": 2,
   "metadata": {},
   "outputs": [],
   "source": [
    "data13_14 = pd.read_csv('2013-14.csv')\n",
    "data12_13 = pd.read_csv(\"2012-13.csv\")\n",
    "data14_15 = pd.read_csv(\"2014-15.csv\")\n",
    "data15_16 = pd.read_csv(\"2015-16.csv\")\n"
   ]
  },
  {
   "cell_type": "code",
   "execution_count": 3,
   "metadata": {},
   "outputs": [],
   "source": [
    "data12_13['Year'] = '2012-13'\n",
    "data13_14['Year'] = '2013-14'\n",
    "data14_15['Year'] = '2014-15'\n",
    "data15_16['Year'] = '2015-16'"
   ]
  },
  {
   "cell_type": "code",
   "execution_count": 4,
   "metadata": {
    "scrolled": false
   },
   "outputs": [
    {
     "name": "stderr",
     "output_type": "stream",
     "text": [
      "G:\\Python_And_Jupytor\\lib\\site-packages\\ipykernel_launcher.py:1: FutureWarning: Sorting because non-concatenation axis is not aligned. A future version\n",
      "of pandas will change to not sort by default.\n",
      "\n",
      "To accept the future behavior, pass 'sort=False'.\n",
      "\n",
      "To retain the current behavior and silence the warning, pass 'sort=True'.\n",
      "\n",
      "  \"\"\"Entry point for launching an IPython kernel.\n"
     ]
    }
   ],
   "source": [
    "newdata1 = pd.concat([data12_13,data13_14,data14_15,data15_16],axis = 0,ignore_index=True)"
   ]
  },
  {
   "cell_type": "code",
   "execution_count": 5,
   "metadata": {
    "scrolled": true
   },
   "outputs": [
    {
     "data": {
      "text/plain": [
       "array(['AC', 'AF', 'AR', 'AS', 'AST', 'AY', 'AwayTeam', 'B365A', 'B365D',\n",
       "       'B365H', 'BSA', 'BSD', 'BSH', 'BWA', 'BWD', 'BWH', 'Bb1X2', 'BbAH',\n",
       "       'BbAHh', 'BbAv<2.5', 'BbAv>2.5', 'BbAvA', 'BbAvAHA', 'BbAvAHH',\n",
       "       'BbAvD', 'BbAvH', 'BbMx<2.5', 'BbMx>2.5', 'BbMxA', 'BbMxAHA',\n",
       "       'BbMxAHH', 'BbMxD', 'BbMxH', 'BbOU', 'Date', 'Div', 'FTAG', 'FTHG',\n",
       "       'FTR', 'GBA', 'GBD', 'GBH', 'HC', 'HF', 'HR', 'HS', 'HST', 'HTAG',\n",
       "       'HTHG', 'HTR', 'HY', 'HomeTeam', 'IWA', 'IWD', 'IWH', 'LBA', 'LBD',\n",
       "       'LBH', 'PSA', 'PSCA', 'PSCD', 'PSCH', 'PSD', 'PSH', 'Referee',\n",
       "       'SJA', 'SJD', 'SJH', 'VCA', 'VCD', 'VCH', 'WHA', 'WHD', 'WHH',\n",
       "       'Year'], dtype=object)"
      ]
     },
     "execution_count": 5,
     "metadata": {},
     "output_type": "execute_result"
    }
   ],
   "source": [
    "newdata1.columns.values"
   ]
  },
  {
   "cell_type": "code",
   "execution_count": 6,
   "metadata": {},
   "outputs": [],
   "source": [
    "col = ['AC', 'AF', 'AR', 'AS', 'AST', 'AY', 'AwayTeam', 'Div', 'FTAG', 'FTHG',\n",
    "       'FTR','HC', 'HF', 'HR', 'HS', 'HST', 'HTAG',\n",
    "       'HTHG', 'HTR', 'HY', 'HomeTeam','Referee','Year']"
   ]
  },
  {
   "cell_type": "code",
   "execution_count": 7,
   "metadata": {},
   "outputs": [],
   "source": [
    "freshdata = newdata1[col]"
   ]
  },
  {
   "cell_type": "code",
   "execution_count": 8,
   "metadata": {},
   "outputs": [
    {
     "data": {
      "text/plain": [
       "array(['AC', 'AF', 'AR', 'AS', 'AST', 'AY', 'AwayTeam', 'Div', 'FTAG',\n",
       "       'FTHG', 'FTR', 'HC', 'HF', 'HR', 'HS', 'HST', 'HTAG', 'HTHG',\n",
       "       'HTR', 'HY', 'HomeTeam', 'Referee', 'Year'], dtype=object)"
      ]
     },
     "execution_count": 8,
     "metadata": {},
     "output_type": "execute_result"
    }
   ],
   "source": [
    "freshdata.columns.values"
   ]
  },
  {
   "cell_type": "code",
   "execution_count": 9,
   "metadata": {},
   "outputs": [],
   "source": [
    "col1 = ['Div','AC', 'AF', 'AR', 'AS', 'AST', 'AY', 'AwayTeam','HomeTeam', 'FTR','Referee', \n",
    "       'FTAG', 'FTHG', 'HC', 'HF', 'HR', 'HS', 'HST', 'HTAG',\n",
    "       'HTHG', 'HTR', 'HY','Year']"
   ]
  },
  {
   "cell_type": "code",
   "execution_count": 10,
   "metadata": {},
   "outputs": [],
   "source": [
    "modi_data = freshdata[col1]"
   ]
  },
  {
   "cell_type": "code",
   "execution_count": 11,
   "metadata": {},
   "outputs": [],
   "source": [
    "#Checking if there is any null values"
   ]
  },
  {
   "cell_type": "code",
   "execution_count": 12,
   "metadata": {},
   "outputs": [
    {
     "name": "stderr",
     "output_type": "stream",
     "text": [
      "G:\\Python_And_Jupytor\\lib\\site-packages\\ipykernel_launcher.py:1: SettingWithCopyWarning: \n",
      "A value is trying to be set on a copy of a slice from a DataFrame\n",
      "\n",
      "See the caveats in the documentation: http://pandas.pydata.org/pandas-docs/stable/user_guide/indexing.html#returning-a-view-versus-a-copy\n",
      "  \"\"\"Entry point for launching an IPython kernel.\n"
     ]
    }
   ],
   "source": [
    "modi_data.dropna(axis = 0,inplace = True)"
   ]
  },
  {
   "cell_type": "code",
   "execution_count": 13,
   "metadata": {
    "scrolled": true
   },
   "outputs": [
    {
     "data": {
      "text/plain": [
       "Div         0\n",
       "AC          0\n",
       "AF          0\n",
       "AR          0\n",
       "AS          0\n",
       "AST         0\n",
       "AY          0\n",
       "AwayTeam    0\n",
       "HomeTeam    0\n",
       "FTR         0\n",
       "Referee     0\n",
       "FTAG        0\n",
       "FTHG        0\n",
       "HC          0\n",
       "HF          0\n",
       "HR          0\n",
       "HS          0\n",
       "HST         0\n",
       "HTAG        0\n",
       "HTHG        0\n",
       "HTR         0\n",
       "HY          0\n",
       "Year        0\n",
       "dtype: int64"
      ]
     },
     "execution_count": 13,
     "metadata": {},
     "output_type": "execute_result"
    }
   ],
   "source": [
    "modi_data.isnull().sum()"
   ]
  },
  {
   "cell_type": "code",
   "execution_count": 14,
   "metadata": {},
   "outputs": [
    {
     "data": {
      "text/html": [
       "<div>\n",
       "<style scoped>\n",
       "    .dataframe tbody tr th:only-of-type {\n",
       "        vertical-align: middle;\n",
       "    }\n",
       "\n",
       "    .dataframe tbody tr th {\n",
       "        vertical-align: top;\n",
       "    }\n",
       "\n",
       "    .dataframe thead th {\n",
       "        text-align: right;\n",
       "    }\n",
       "</style>\n",
       "<table border=\"1\" class=\"dataframe\">\n",
       "  <thead>\n",
       "    <tr style=\"text-align: right;\">\n",
       "      <th></th>\n",
       "      <th>Div</th>\n",
       "      <th>AC</th>\n",
       "      <th>AF</th>\n",
       "      <th>AR</th>\n",
       "      <th>AS</th>\n",
       "      <th>AST</th>\n",
       "      <th>AY</th>\n",
       "      <th>AwayTeam</th>\n",
       "      <th>HomeTeam</th>\n",
       "      <th>FTR</th>\n",
       "      <th>...</th>\n",
       "      <th>HC</th>\n",
       "      <th>HF</th>\n",
       "      <th>HR</th>\n",
       "      <th>HS</th>\n",
       "      <th>HST</th>\n",
       "      <th>HTAG</th>\n",
       "      <th>HTHG</th>\n",
       "      <th>HTR</th>\n",
       "      <th>HY</th>\n",
       "      <th>Year</th>\n",
       "    </tr>\n",
       "  </thead>\n",
       "  <tbody>\n",
       "    <tr>\n",
       "      <th>0</th>\n",
       "      <td>E0</td>\n",
       "      <td>0.0</td>\n",
       "      <td>8.0</td>\n",
       "      <td>0.0</td>\n",
       "      <td>3.0</td>\n",
       "      <td>2.0</td>\n",
       "      <td>0.0</td>\n",
       "      <td>Sunderland</td>\n",
       "      <td>Arsenal</td>\n",
       "      <td>D</td>\n",
       "      <td>...</td>\n",
       "      <td>7.0</td>\n",
       "      <td>12.0</td>\n",
       "      <td>0.0</td>\n",
       "      <td>14.0</td>\n",
       "      <td>4.0</td>\n",
       "      <td>0.0</td>\n",
       "      <td>0.0</td>\n",
       "      <td>D</td>\n",
       "      <td>0.0</td>\n",
       "      <td>2012-13</td>\n",
       "    </tr>\n",
       "    <tr>\n",
       "      <th>1</th>\n",
       "      <td>E0</td>\n",
       "      <td>3.0</td>\n",
       "      <td>11.0</td>\n",
       "      <td>0.0</td>\n",
       "      <td>4.0</td>\n",
       "      <td>2.0</td>\n",
       "      <td>0.0</td>\n",
       "      <td>Norwich</td>\n",
       "      <td>Fulham</td>\n",
       "      <td>H</td>\n",
       "      <td>...</td>\n",
       "      <td>6.0</td>\n",
       "      <td>12.0</td>\n",
       "      <td>0.0</td>\n",
       "      <td>11.0</td>\n",
       "      <td>9.0</td>\n",
       "      <td>0.0</td>\n",
       "      <td>2.0</td>\n",
       "      <td>H</td>\n",
       "      <td>0.0</td>\n",
       "      <td>2012-13</td>\n",
       "    </tr>\n",
       "    <tr>\n",
       "      <th>2</th>\n",
       "      <td>E0</td>\n",
       "      <td>5.0</td>\n",
       "      <td>8.0</td>\n",
       "      <td>0.0</td>\n",
       "      <td>12.0</td>\n",
       "      <td>6.0</td>\n",
       "      <td>2.0</td>\n",
       "      <td>Tottenham</td>\n",
       "      <td>Newcastle</td>\n",
       "      <td>H</td>\n",
       "      <td>...</td>\n",
       "      <td>3.0</td>\n",
       "      <td>12.0</td>\n",
       "      <td>0.0</td>\n",
       "      <td>6.0</td>\n",
       "      <td>4.0</td>\n",
       "      <td>0.0</td>\n",
       "      <td>0.0</td>\n",
       "      <td>D</td>\n",
       "      <td>2.0</td>\n",
       "      <td>2012-13</td>\n",
       "    </tr>\n",
       "    <tr>\n",
       "      <th>3</th>\n",
       "      <td>E0</td>\n",
       "      <td>3.0</td>\n",
       "      <td>14.0</td>\n",
       "      <td>0.0</td>\n",
       "      <td>12.0</td>\n",
       "      <td>8.0</td>\n",
       "      <td>2.0</td>\n",
       "      <td>Swansea</td>\n",
       "      <td>QPR</td>\n",
       "      <td>A</td>\n",
       "      <td>...</td>\n",
       "      <td>5.0</td>\n",
       "      <td>11.0</td>\n",
       "      <td>0.0</td>\n",
       "      <td>20.0</td>\n",
       "      <td>11.0</td>\n",
       "      <td>1.0</td>\n",
       "      <td>0.0</td>\n",
       "      <td>A</td>\n",
       "      <td>2.0</td>\n",
       "      <td>2012-13</td>\n",
       "    </tr>\n",
       "    <tr>\n",
       "      <th>4</th>\n",
       "      <td>E0</td>\n",
       "      <td>3.0</td>\n",
       "      <td>14.0</td>\n",
       "      <td>1.0</td>\n",
       "      <td>6.0</td>\n",
       "      <td>3.0</td>\n",
       "      <td>4.0</td>\n",
       "      <td>Stoke</td>\n",
       "      <td>Reading</td>\n",
       "      <td>D</td>\n",
       "      <td>...</td>\n",
       "      <td>4.0</td>\n",
       "      <td>9.0</td>\n",
       "      <td>0.0</td>\n",
       "      <td>9.0</td>\n",
       "      <td>3.0</td>\n",
       "      <td>1.0</td>\n",
       "      <td>0.0</td>\n",
       "      <td>A</td>\n",
       "      <td>2.0</td>\n",
       "      <td>2012-13</td>\n",
       "    </tr>\n",
       "  </tbody>\n",
       "</table>\n",
       "<p>5 rows × 23 columns</p>\n",
       "</div>"
      ],
      "text/plain": [
       "  Div   AC    AF   AR    AS  AST   AY    AwayTeam   HomeTeam FTR  ...   HC  \\\n",
       "0  E0  0.0   8.0  0.0   3.0  2.0  0.0  Sunderland    Arsenal   D  ...  7.0   \n",
       "1  E0  3.0  11.0  0.0   4.0  2.0  0.0     Norwich     Fulham   H  ...  6.0   \n",
       "2  E0  5.0   8.0  0.0  12.0  6.0  2.0   Tottenham  Newcastle   H  ...  3.0   \n",
       "3  E0  3.0  14.0  0.0  12.0  8.0  2.0     Swansea        QPR   A  ...  5.0   \n",
       "4  E0  3.0  14.0  1.0   6.0  3.0  4.0       Stoke    Reading   D  ...  4.0   \n",
       "\n",
       "     HF   HR    HS   HST  HTAG  HTHG  HTR   HY     Year  \n",
       "0  12.0  0.0  14.0   4.0   0.0   0.0    D  0.0  2012-13  \n",
       "1  12.0  0.0  11.0   9.0   0.0   2.0    H  0.0  2012-13  \n",
       "2  12.0  0.0   6.0   4.0   0.0   0.0    D  2.0  2012-13  \n",
       "3  11.0  0.0  20.0  11.0   1.0   0.0    A  2.0  2012-13  \n",
       "4   9.0  0.0   9.0   3.0   1.0   0.0    A  2.0  2012-13  \n",
       "\n",
       "[5 rows x 23 columns]"
      ]
     },
     "execution_count": 14,
     "metadata": {},
     "output_type": "execute_result"
    }
   ],
   "source": [
    "modi_data.head()"
   ]
  },
  {
   "cell_type": "code",
   "execution_count": 15,
   "metadata": {},
   "outputs": [
    {
     "data": {
      "text/html": [
       "<div>\n",
       "<style scoped>\n",
       "    .dataframe tbody tr th:only-of-type {\n",
       "        vertical-align: middle;\n",
       "    }\n",
       "\n",
       "    .dataframe tbody tr th {\n",
       "        vertical-align: top;\n",
       "    }\n",
       "\n",
       "    .dataframe thead th {\n",
       "        text-align: right;\n",
       "    }\n",
       "</style>\n",
       "<table border=\"1\" class=\"dataframe\">\n",
       "  <thead>\n",
       "    <tr style=\"text-align: right;\">\n",
       "      <th></th>\n",
       "      <th>AC</th>\n",
       "      <th>AF</th>\n",
       "      <th>AR</th>\n",
       "      <th>AS</th>\n",
       "      <th>AST</th>\n",
       "      <th>AY</th>\n",
       "      <th>FTAG</th>\n",
       "      <th>FTHG</th>\n",
       "      <th>HC</th>\n",
       "      <th>HF</th>\n",
       "      <th>HR</th>\n",
       "      <th>HS</th>\n",
       "      <th>HST</th>\n",
       "      <th>HTAG</th>\n",
       "      <th>HTHG</th>\n",
       "      <th>HY</th>\n",
       "    </tr>\n",
       "  </thead>\n",
       "  <tbody>\n",
       "    <tr>\n",
       "      <th>count</th>\n",
       "      <td>1520.000000</td>\n",
       "      <td>1520.000000</td>\n",
       "      <td>1520.000000</td>\n",
       "      <td>1520.000000</td>\n",
       "      <td>1520.000000</td>\n",
       "      <td>1520.000000</td>\n",
       "      <td>1520.000000</td>\n",
       "      <td>1520.000000</td>\n",
       "      <td>1520.000000</td>\n",
       "      <td>1520.000000</td>\n",
       "      <td>1520.000000</td>\n",
       "      <td>1520.000000</td>\n",
       "      <td>1520.000000</td>\n",
       "      <td>1520.000000</td>\n",
       "      <td>1520.000000</td>\n",
       "      <td>1520.000000</td>\n",
       "    </tr>\n",
       "    <tr>\n",
       "      <th>mean</th>\n",
       "      <td>4.763158</td>\n",
       "      <td>11.155921</td>\n",
       "      <td>0.093421</td>\n",
       "      <td>11.398026</td>\n",
       "      <td>4.432237</td>\n",
       "      <td>1.785526</td>\n",
       "      <td>1.183553</td>\n",
       "      <td>1.524342</td>\n",
       "      <td>6.098684</td>\n",
       "      <td>10.511842</td>\n",
       "      <td>0.061184</td>\n",
       "      <td>14.503947</td>\n",
       "      <td>5.586842</td>\n",
       "      <td>0.526974</td>\n",
       "      <td>0.687500</td>\n",
       "      <td>1.465132</td>\n",
       "    </tr>\n",
       "    <tr>\n",
       "      <th>std</th>\n",
       "      <td>2.637994</td>\n",
       "      <td>3.511108</td>\n",
       "      <td>0.304383</td>\n",
       "      <td>4.681438</td>\n",
       "      <td>2.684780</td>\n",
       "      <td>1.280862</td>\n",
       "      <td>1.143948</td>\n",
       "      <td>1.303032</td>\n",
       "      <td>3.142773</td>\n",
       "      <td>3.322454</td>\n",
       "      <td>0.250490</td>\n",
       "      <td>5.519370</td>\n",
       "      <td>3.231321</td>\n",
       "      <td>0.727931</td>\n",
       "      <td>0.841862</td>\n",
       "      <td>1.187535</td>\n",
       "    </tr>\n",
       "    <tr>\n",
       "      <th>min</th>\n",
       "      <td>0.000000</td>\n",
       "      <td>1.000000</td>\n",
       "      <td>0.000000</td>\n",
       "      <td>1.000000</td>\n",
       "      <td>0.000000</td>\n",
       "      <td>0.000000</td>\n",
       "      <td>0.000000</td>\n",
       "      <td>0.000000</td>\n",
       "      <td>0.000000</td>\n",
       "      <td>2.000000</td>\n",
       "      <td>0.000000</td>\n",
       "      <td>1.000000</td>\n",
       "      <td>0.000000</td>\n",
       "      <td>0.000000</td>\n",
       "      <td>0.000000</td>\n",
       "      <td>0.000000</td>\n",
       "    </tr>\n",
       "    <tr>\n",
       "      <th>25%</th>\n",
       "      <td>3.000000</td>\n",
       "      <td>9.000000</td>\n",
       "      <td>0.000000</td>\n",
       "      <td>8.000000</td>\n",
       "      <td>3.000000</td>\n",
       "      <td>1.000000</td>\n",
       "      <td>0.000000</td>\n",
       "      <td>1.000000</td>\n",
       "      <td>4.000000</td>\n",
       "      <td>8.000000</td>\n",
       "      <td>0.000000</td>\n",
       "      <td>11.000000</td>\n",
       "      <td>3.000000</td>\n",
       "      <td>0.000000</td>\n",
       "      <td>0.000000</td>\n",
       "      <td>1.000000</td>\n",
       "    </tr>\n",
       "    <tr>\n",
       "      <th>50%</th>\n",
       "      <td>4.000000</td>\n",
       "      <td>11.000000</td>\n",
       "      <td>0.000000</td>\n",
       "      <td>11.000000</td>\n",
       "      <td>4.000000</td>\n",
       "      <td>2.000000</td>\n",
       "      <td>1.000000</td>\n",
       "      <td>1.000000</td>\n",
       "      <td>6.000000</td>\n",
       "      <td>11.000000</td>\n",
       "      <td>0.000000</td>\n",
       "      <td>14.000000</td>\n",
       "      <td>5.000000</td>\n",
       "      <td>0.000000</td>\n",
       "      <td>0.000000</td>\n",
       "      <td>1.000000</td>\n",
       "    </tr>\n",
       "    <tr>\n",
       "      <th>75%</th>\n",
       "      <td>6.000000</td>\n",
       "      <td>14.000000</td>\n",
       "      <td>0.000000</td>\n",
       "      <td>14.000000</td>\n",
       "      <td>6.000000</td>\n",
       "      <td>3.000000</td>\n",
       "      <td>2.000000</td>\n",
       "      <td>2.000000</td>\n",
       "      <td>8.000000</td>\n",
       "      <td>13.000000</td>\n",
       "      <td>0.000000</td>\n",
       "      <td>18.000000</td>\n",
       "      <td>7.000000</td>\n",
       "      <td>1.000000</td>\n",
       "      <td>1.000000</td>\n",
       "      <td>2.000000</td>\n",
       "    </tr>\n",
       "    <tr>\n",
       "      <th>max</th>\n",
       "      <td>17.000000</td>\n",
       "      <td>24.000000</td>\n",
       "      <td>2.000000</td>\n",
       "      <td>30.000000</td>\n",
       "      <td>20.000000</td>\n",
       "      <td>9.000000</td>\n",
       "      <td>6.000000</td>\n",
       "      <td>8.000000</td>\n",
       "      <td>18.000000</td>\n",
       "      <td>23.000000</td>\n",
       "      <td>2.000000</td>\n",
       "      <td>43.000000</td>\n",
       "      <td>20.000000</td>\n",
       "      <td>4.000000</td>\n",
       "      <td>5.000000</td>\n",
       "      <td>7.000000</td>\n",
       "    </tr>\n",
       "  </tbody>\n",
       "</table>\n",
       "</div>"
      ],
      "text/plain": [
       "                AC           AF           AR           AS          AST  \\\n",
       "count  1520.000000  1520.000000  1520.000000  1520.000000  1520.000000   \n",
       "mean      4.763158    11.155921     0.093421    11.398026     4.432237   \n",
       "std       2.637994     3.511108     0.304383     4.681438     2.684780   \n",
       "min       0.000000     1.000000     0.000000     1.000000     0.000000   \n",
       "25%       3.000000     9.000000     0.000000     8.000000     3.000000   \n",
       "50%       4.000000    11.000000     0.000000    11.000000     4.000000   \n",
       "75%       6.000000    14.000000     0.000000    14.000000     6.000000   \n",
       "max      17.000000    24.000000     2.000000    30.000000    20.000000   \n",
       "\n",
       "                AY         FTAG         FTHG           HC           HF  \\\n",
       "count  1520.000000  1520.000000  1520.000000  1520.000000  1520.000000   \n",
       "mean      1.785526     1.183553     1.524342     6.098684    10.511842   \n",
       "std       1.280862     1.143948     1.303032     3.142773     3.322454   \n",
       "min       0.000000     0.000000     0.000000     0.000000     2.000000   \n",
       "25%       1.000000     0.000000     1.000000     4.000000     8.000000   \n",
       "50%       2.000000     1.000000     1.000000     6.000000    11.000000   \n",
       "75%       3.000000     2.000000     2.000000     8.000000    13.000000   \n",
       "max       9.000000     6.000000     8.000000    18.000000    23.000000   \n",
       "\n",
       "                HR           HS          HST         HTAG         HTHG  \\\n",
       "count  1520.000000  1520.000000  1520.000000  1520.000000  1520.000000   \n",
       "mean      0.061184    14.503947     5.586842     0.526974     0.687500   \n",
       "std       0.250490     5.519370     3.231321     0.727931     0.841862   \n",
       "min       0.000000     1.000000     0.000000     0.000000     0.000000   \n",
       "25%       0.000000    11.000000     3.000000     0.000000     0.000000   \n",
       "50%       0.000000    14.000000     5.000000     0.000000     0.000000   \n",
       "75%       0.000000    18.000000     7.000000     1.000000     1.000000   \n",
       "max       2.000000    43.000000    20.000000     4.000000     5.000000   \n",
       "\n",
       "                HY  \n",
       "count  1520.000000  \n",
       "mean      1.465132  \n",
       "std       1.187535  \n",
       "min       0.000000  \n",
       "25%       1.000000  \n",
       "50%       1.000000  \n",
       "75%       2.000000  \n",
       "max       7.000000  "
      ]
     },
     "execution_count": 15,
     "metadata": {},
     "output_type": "execute_result"
    }
   ],
   "source": [
    "modi_data.describe()"
   ]
  },
  {
   "cell_type": "code",
   "execution_count": 16,
   "metadata": {},
   "outputs": [],
   "source": [
    "#Number of matches played by HomeTeam"
   ]
  },
  {
   "cell_type": "code",
   "execution_count": 17,
   "metadata": {},
   "outputs": [
    {
     "data": {
      "text/html": [
       "<div>\n",
       "<style scoped>\n",
       "    .dataframe tbody tr th:only-of-type {\n",
       "        vertical-align: middle;\n",
       "    }\n",
       "\n",
       "    .dataframe tbody tr th {\n",
       "        vertical-align: top;\n",
       "    }\n",
       "\n",
       "    .dataframe thead th {\n",
       "        text-align: right;\n",
       "    }\n",
       "</style>\n",
       "<table border=\"1\" class=\"dataframe\">\n",
       "  <thead>\n",
       "    <tr style=\"text-align: right;\">\n",
       "      <th></th>\n",
       "      <th>HomeTeam</th>\n",
       "    </tr>\n",
       "  </thead>\n",
       "  <tbody>\n",
       "    <tr>\n",
       "      <th>Sunderland</th>\n",
       "      <td>76</td>\n",
       "    </tr>\n",
       "    <tr>\n",
       "      <th>Aston Villa</th>\n",
       "      <td>76</td>\n",
       "    </tr>\n",
       "    <tr>\n",
       "      <th>Stoke</th>\n",
       "      <td>76</td>\n",
       "    </tr>\n",
       "    <tr>\n",
       "      <th>Liverpool</th>\n",
       "      <td>76</td>\n",
       "    </tr>\n",
       "    <tr>\n",
       "      <th>Man United</th>\n",
       "      <td>76</td>\n",
       "    </tr>\n",
       "    <tr>\n",
       "      <th>Newcastle</th>\n",
       "      <td>76</td>\n",
       "    </tr>\n",
       "    <tr>\n",
       "      <th>Arsenal</th>\n",
       "      <td>76</td>\n",
       "    </tr>\n",
       "    <tr>\n",
       "      <th>Man City</th>\n",
       "      <td>76</td>\n",
       "    </tr>\n",
       "    <tr>\n",
       "      <th>Chelsea</th>\n",
       "      <td>76</td>\n",
       "    </tr>\n",
       "    <tr>\n",
       "      <th>Everton</th>\n",
       "      <td>76</td>\n",
       "    </tr>\n",
       "    <tr>\n",
       "      <th>Tottenham</th>\n",
       "      <td>76</td>\n",
       "    </tr>\n",
       "    <tr>\n",
       "      <th>West Ham</th>\n",
       "      <td>76</td>\n",
       "    </tr>\n",
       "    <tr>\n",
       "      <th>Southampton</th>\n",
       "      <td>76</td>\n",
       "    </tr>\n",
       "    <tr>\n",
       "      <th>Swansea</th>\n",
       "      <td>76</td>\n",
       "    </tr>\n",
       "    <tr>\n",
       "      <th>West Brom</th>\n",
       "      <td>76</td>\n",
       "    </tr>\n",
       "    <tr>\n",
       "      <th>Crystal Palace</th>\n",
       "      <td>57</td>\n",
       "    </tr>\n",
       "    <tr>\n",
       "      <th>Norwich</th>\n",
       "      <td>57</td>\n",
       "    </tr>\n",
       "    <tr>\n",
       "      <th>QPR</th>\n",
       "      <td>38</td>\n",
       "    </tr>\n",
       "    <tr>\n",
       "      <th>Hull</th>\n",
       "      <td>38</td>\n",
       "    </tr>\n",
       "    <tr>\n",
       "      <th>Leicester</th>\n",
       "      <td>38</td>\n",
       "    </tr>\n",
       "    <tr>\n",
       "      <th>Fulham</th>\n",
       "      <td>38</td>\n",
       "    </tr>\n",
       "    <tr>\n",
       "      <th>Reading</th>\n",
       "      <td>19</td>\n",
       "    </tr>\n",
       "    <tr>\n",
       "      <th>Wigan</th>\n",
       "      <td>19</td>\n",
       "    </tr>\n",
       "    <tr>\n",
       "      <th>Cardiff</th>\n",
       "      <td>19</td>\n",
       "    </tr>\n",
       "    <tr>\n",
       "      <th>Bournemouth</th>\n",
       "      <td>19</td>\n",
       "    </tr>\n",
       "    <tr>\n",
       "      <th>Watford</th>\n",
       "      <td>19</td>\n",
       "    </tr>\n",
       "    <tr>\n",
       "      <th>Burnley</th>\n",
       "      <td>19</td>\n",
       "    </tr>\n",
       "  </tbody>\n",
       "</table>\n",
       "</div>"
      ],
      "text/plain": [
       "                HomeTeam\n",
       "Sunderland            76\n",
       "Aston Villa           76\n",
       "Stoke                 76\n",
       "Liverpool             76\n",
       "Man United            76\n",
       "Newcastle             76\n",
       "Arsenal               76\n",
       "Man City              76\n",
       "Chelsea               76\n",
       "Everton               76\n",
       "Tottenham             76\n",
       "West Ham              76\n",
       "Southampton           76\n",
       "Swansea               76\n",
       "West Brom             76\n",
       "Crystal Palace        57\n",
       "Norwich               57\n",
       "QPR                   38\n",
       "Hull                  38\n",
       "Leicester             38\n",
       "Fulham                38\n",
       "Reading               19\n",
       "Wigan                 19\n",
       "Cardiff               19\n",
       "Bournemouth           19\n",
       "Watford               19\n",
       "Burnley               19"
      ]
     },
     "execution_count": 17,
     "metadata": {},
     "output_type": "execute_result"
    }
   ],
   "source": [
    "HomeTeam=pd.DataFrame(modi_data['HomeTeam'].value_counts())\n",
    "HomeTeam\n"
   ]
  },
  {
   "cell_type": "code",
   "execution_count": 18,
   "metadata": {},
   "outputs": [],
   "source": [
    "#Number of matches played by AwayTeam"
   ]
  },
  {
   "cell_type": "code",
   "execution_count": 19,
   "metadata": {},
   "outputs": [
    {
     "data": {
      "text/html": [
       "<div>\n",
       "<style scoped>\n",
       "    .dataframe tbody tr th:only-of-type {\n",
       "        vertical-align: middle;\n",
       "    }\n",
       "\n",
       "    .dataframe tbody tr th {\n",
       "        vertical-align: top;\n",
       "    }\n",
       "\n",
       "    .dataframe thead th {\n",
       "        text-align: right;\n",
       "    }\n",
       "</style>\n",
       "<table border=\"1\" class=\"dataframe\">\n",
       "  <thead>\n",
       "    <tr style=\"text-align: right;\">\n",
       "      <th></th>\n",
       "      <th>AwayTeam</th>\n",
       "    </tr>\n",
       "  </thead>\n",
       "  <tbody>\n",
       "    <tr>\n",
       "      <th>Sunderland</th>\n",
       "      <td>76</td>\n",
       "    </tr>\n",
       "    <tr>\n",
       "      <th>Aston Villa</th>\n",
       "      <td>76</td>\n",
       "    </tr>\n",
       "    <tr>\n",
       "      <th>Stoke</th>\n",
       "      <td>76</td>\n",
       "    </tr>\n",
       "    <tr>\n",
       "      <th>Liverpool</th>\n",
       "      <td>76</td>\n",
       "    </tr>\n",
       "    <tr>\n",
       "      <th>Man United</th>\n",
       "      <td>76</td>\n",
       "    </tr>\n",
       "    <tr>\n",
       "      <th>Newcastle</th>\n",
       "      <td>76</td>\n",
       "    </tr>\n",
       "    <tr>\n",
       "      <th>Arsenal</th>\n",
       "      <td>76</td>\n",
       "    </tr>\n",
       "    <tr>\n",
       "      <th>Man City</th>\n",
       "      <td>76</td>\n",
       "    </tr>\n",
       "    <tr>\n",
       "      <th>Chelsea</th>\n",
       "      <td>76</td>\n",
       "    </tr>\n",
       "    <tr>\n",
       "      <th>Everton</th>\n",
       "      <td>76</td>\n",
       "    </tr>\n",
       "    <tr>\n",
       "      <th>Tottenham</th>\n",
       "      <td>76</td>\n",
       "    </tr>\n",
       "    <tr>\n",
       "      <th>West Ham</th>\n",
       "      <td>76</td>\n",
       "    </tr>\n",
       "    <tr>\n",
       "      <th>Southampton</th>\n",
       "      <td>76</td>\n",
       "    </tr>\n",
       "    <tr>\n",
       "      <th>Swansea</th>\n",
       "      <td>76</td>\n",
       "    </tr>\n",
       "    <tr>\n",
       "      <th>West Brom</th>\n",
       "      <td>76</td>\n",
       "    </tr>\n",
       "    <tr>\n",
       "      <th>Crystal Palace</th>\n",
       "      <td>57</td>\n",
       "    </tr>\n",
       "    <tr>\n",
       "      <th>Norwich</th>\n",
       "      <td>57</td>\n",
       "    </tr>\n",
       "    <tr>\n",
       "      <th>QPR</th>\n",
       "      <td>38</td>\n",
       "    </tr>\n",
       "    <tr>\n",
       "      <th>Hull</th>\n",
       "      <td>38</td>\n",
       "    </tr>\n",
       "    <tr>\n",
       "      <th>Leicester</th>\n",
       "      <td>38</td>\n",
       "    </tr>\n",
       "    <tr>\n",
       "      <th>Fulham</th>\n",
       "      <td>38</td>\n",
       "    </tr>\n",
       "    <tr>\n",
       "      <th>Reading</th>\n",
       "      <td>19</td>\n",
       "    </tr>\n",
       "    <tr>\n",
       "      <th>Wigan</th>\n",
       "      <td>19</td>\n",
       "    </tr>\n",
       "    <tr>\n",
       "      <th>Cardiff</th>\n",
       "      <td>19</td>\n",
       "    </tr>\n",
       "    <tr>\n",
       "      <th>Bournemouth</th>\n",
       "      <td>19</td>\n",
       "    </tr>\n",
       "    <tr>\n",
       "      <th>Watford</th>\n",
       "      <td>19</td>\n",
       "    </tr>\n",
       "    <tr>\n",
       "      <th>Burnley</th>\n",
       "      <td>19</td>\n",
       "    </tr>\n",
       "  </tbody>\n",
       "</table>\n",
       "</div>"
      ],
      "text/plain": [
       "                AwayTeam\n",
       "Sunderland            76\n",
       "Aston Villa           76\n",
       "Stoke                 76\n",
       "Liverpool             76\n",
       "Man United            76\n",
       "Newcastle             76\n",
       "Arsenal               76\n",
       "Man City              76\n",
       "Chelsea               76\n",
       "Everton               76\n",
       "Tottenham             76\n",
       "West Ham              76\n",
       "Southampton           76\n",
       "Swansea               76\n",
       "West Brom             76\n",
       "Crystal Palace        57\n",
       "Norwich               57\n",
       "QPR                   38\n",
       "Hull                  38\n",
       "Leicester             38\n",
       "Fulham                38\n",
       "Reading               19\n",
       "Wigan                 19\n",
       "Cardiff               19\n",
       "Bournemouth           19\n",
       "Watford               19\n",
       "Burnley               19"
      ]
     },
     "execution_count": 19,
     "metadata": {},
     "output_type": "execute_result"
    }
   ],
   "source": [
    "AwayTeam=pd.DataFrame(modi_data['AwayTeam'].value_counts())\n",
    "AwayTeam"
   ]
  },
  {
   "cell_type": "code",
   "execution_count": 20,
   "metadata": {},
   "outputs": [],
   "source": [
    "#Number of HomeTeams participated in EO division is 27 from year 2012-16"
   ]
  },
  {
   "cell_type": "code",
   "execution_count": 21,
   "metadata": {},
   "outputs": [
    {
     "data": {
      "text/plain": [
       "TotalHomeTeams:    27\n",
       "dtype: int64"
      ]
     },
     "execution_count": 21,
     "metadata": {},
     "output_type": "execute_result"
    }
   ],
   "source": [
    "TotalHomeTeams = pd.Series(modi_data['HomeTeam'].nunique(),index=['TotalHomeTeams:'])\n",
    "TotalHomeTeams"
   ]
  },
  {
   "cell_type": "code",
   "execution_count": 22,
   "metadata": {},
   "outputs": [],
   "source": [
    "#Number of AwayTeams participated in EO division is 27 from year 2012-16"
   ]
  },
  {
   "cell_type": "code",
   "execution_count": 23,
   "metadata": {},
   "outputs": [
    {
     "data": {
      "text/plain": [
       "TotalAwayTeams:    27\n",
       "dtype: int64"
      ]
     },
     "execution_count": 23,
     "metadata": {},
     "output_type": "execute_result"
    }
   ],
   "source": [
    "TotalAwayTeams = pd.Series(modi_data['AwayTeam'].nunique(),index = ['TotalAwayTeams:'])\n",
    "TotalAwayTeams"
   ]
  },
  {
   "cell_type": "code",
   "execution_count": 24,
   "metadata": {},
   "outputs": [],
   "source": [
    "#Number of Referees participated "
   ]
  },
  {
   "cell_type": "code",
   "execution_count": 25,
   "metadata": {},
   "outputs": [
    {
     "data": {
      "text/plain": [
       "TotalReferees:    24\n",
       "dtype: int64"
      ]
     },
     "execution_count": 25,
     "metadata": {},
     "output_type": "execute_result"
    }
   ],
   "source": [
    "TotalReferees = pd.Series(modi_data['Referee'].nunique(),index=['TotalReferees:'])\n",
    "TotalReferees  "
   ]
  },
  {
   "cell_type": "code",
   "execution_count": 26,
   "metadata": {},
   "outputs": [
    {
     "data": {
      "text/plain": [
       "Text(0.5, 0, 'Number of Matches')"
      ]
     },
     "execution_count": 26,
     "metadata": {},
     "output_type": "execute_result"
    },
    {
     "data": {
      "image/png": "[encoded data removed]",
      "text/plain": [
       "<Figure size 648x576 with 1 Axes>"
      ]
     },
     "metadata": {
      "needs_background": "light"
     },
     "output_type": "display_data"
    }
   ],
   "source": [
    "Referee = pd.DataFrame(modi_data['Referee'].value_counts())\n",
    "plt.figure(figsize=(9,8))\n",
    "sns.barplot(x=Referee['Referee'],y = Referee.index)\n",
    "plt.ylabel(\"Referee's Name\")\n",
    "plt.xlabel(\"Number of Matches\")"
   ]
  },
  {
   "cell_type": "code",
   "execution_count": 27,
   "metadata": {},
   "outputs": [],
   "source": [
    "#The Away Team Win % is around:30.26 "
   ]
  },
  {
   "cell_type": "code",
   "execution_count": 28,
   "metadata": {},
   "outputs": [
    {
     "data": {
      "text/plain": [
       "A    30.263158\n",
       "Name: FTR, dtype: float64"
      ]
     },
     "execution_count": 28,
     "metadata": {},
     "output_type": "execute_result"
    }
   ],
   "source": [
    "a=modi_data[modi_data['FTR']=='A']['FTR'].value_counts()\n",
    "b = len(modi_data['FTR'])\n",
    "c = a/b*100\n",
    "c"
   ]
  },
  {
   "cell_type": "code",
   "execution_count": 29,
   "metadata": {},
   "outputs": [],
   "source": [
    "#The home%win is around:44.34 "
   ]
  },
  {
   "cell_type": "code",
   "execution_count": 30,
   "metadata": {},
   "outputs": [
    {
     "data": {
      "text/plain": [
       "H    44.342105\n",
       "Name: FTR, dtype: float64"
      ]
     },
     "execution_count": 30,
     "metadata": {},
     "output_type": "execute_result"
    }
   ],
   "source": [
    "a=modi_data[modi_data['FTR']=='H']['FTR'].value_counts()\n",
    "b = len(modi_data['FTR'])\n",
    "c1 = a/b*100\n",
    "c1"
   ]
  },
  {
   "cell_type": "code",
   "execution_count": 31,
   "metadata": {},
   "outputs": [],
   "source": [
    "#The Draw% is around:25.39 "
   ]
  },
  {
   "cell_type": "code",
   "execution_count": 32,
   "metadata": {},
   "outputs": [
    {
     "data": {
      "text/plain": [
       "D    25.394737\n",
       "Name: FTR, dtype: float64"
      ]
     },
     "execution_count": 32,
     "metadata": {},
     "output_type": "execute_result"
    }
   ],
   "source": [
    "a=modi_data[modi_data['FTR']=='D']['FTR'].value_counts()\n",
    "b = len(modi_data['FTR'])\n",
    "c2 = a/b*100\n",
    "c2"
   ]
  },
  {
   "cell_type": "code",
   "execution_count": 33,
   "metadata": {},
   "outputs": [
    {
     "name": "stderr",
     "output_type": "stream",
     "text": [
      "G:\\Python_And_Jupytor\\lib\\site-packages\\ipykernel_launcher.py:1: MatplotlibDeprecationWarning: Non-1D inputs to pie() are currently squeeze()d, but this behavior is deprecated since 3.1 and will be removed in 3.3; pass a 1D array instead.\n",
      "  \"\"\"Entry point for launching an IPython kernel.\n"
     ]
    },
    {
     "data": {
      "text/plain": [
       "([<matplotlib.patches.Wedge at 0x1a315e6bef0>,\n",
       "  <matplotlib.patches.Wedge at 0x1a315e795f8>,\n",
       "  <matplotlib.patches.Wedge at 0x1a315e79cc0>],\n",
       " [Text(0.6391844748848114, 0.8952336047458384, 'AwayWin%'),\n",
       "  Text(-1.0871591892387555, -0.16758549237249581, 'HomeWin%'),\n",
       "  Text(0.7681122918397278, -0.7874030144244567, 'DRAW%')],\n",
       " [Text(0.34864607720989715, 0.4883092389522754, '30.26%'),\n",
       "  Text(-0.5929959214029575, -0.09141026856681589, '44.34%'),\n",
       "  Text(0.41897034100348785, -0.42949255332243086, '25.39%')])"
      ]
     },
     "execution_count": 33,
     "metadata": {},
     "output_type": "execute_result"
    },
    {
     "data": {
      "image/png": "[encoded data removed]",
      "text/plain": [
       "<Figure size 432x288 with 1 Axes>"
      ]
     },
     "metadata": {},
     "output_type": "display_data"
    }
   ],
   "source": [
    "plt.pie(x=[c,c1,c2],labels = ['AwayWin%','HomeWin%','DRAW%'],autopct='%1.2f%%')"
   ]
  },
  {
   "cell_type": "code",
   "execution_count": 34,
   "metadata": {},
   "outputs": [],
   "source": [
    "# In HomeGround\n",
    "#Man City has the most number of Homewins followed by MAN United,Arsenal and chelsea\n",
    "# Aston villa has the most number of Homelost followed by Sunderland,WestBrom, Crystal Palace and Newcastle"
   ]
  },
  {
   "cell_type": "code",
   "execution_count": 35,
   "metadata": {},
   "outputs": [
    {
     "data": {
      "text/plain": [
       "<matplotlib.axes._subplots.AxesSubplot at 0x1a315e79da0>"
      ]
     },
     "execution_count": 35,
     "metadata": {},
     "output_type": "execute_result"
    },
    {
     "data": {
      "image/png": "[encoded data removed]",
      "text/plain": [
       "<Figure size 648x648 with 1 Axes>"
      ]
     },
     "metadata": {
      "needs_background": "light"
     },
     "output_type": "display_data"
    }
   ],
   "source": [
    "plt.figure(figsize=(9,9))\n",
    "sns.countplot(y = modi_data['HomeTeam'],hue = modi_data['FTR'])"
   ]
  },
  {
   "cell_type": "code",
   "execution_count": 36,
   "metadata": {},
   "outputs": [],
   "source": [
    "#In AwayGround\n",
    "#Arsenal has the most number of Awaywins followed by Tottenham,Chelsea,Man City and Man United \n",
    "# Newcastle has the most number of Awaylost followed by Aston villa , Norwich and Swansea"
   ]
  },
  {
   "cell_type": "code",
   "execution_count": 37,
   "metadata": {},
   "outputs": [
    {
     "data": {
      "text/plain": [
       "<matplotlib.axes._subplots.AxesSubplot at 0x1a315e4b588>"
      ]
     },
     "execution_count": 37,
     "metadata": {},
     "output_type": "execute_result"
    },
    {
     "data": {
      "image/png": "[encoded data removed]",
      "text/plain": [
       "<Figure size 648x648 with 1 Axes>"
      ]
     },
     "metadata": {
      "needs_background": "light"
     },
     "output_type": "display_data"
    }
   ],
   "source": [
    "plt.figure(figsize=(9,9))\n",
    "sns.countplot(y = modi_data['AwayTeam'],hue = modi_data['FTR'])"
   ]
  },
  {
   "cell_type": "code",
   "execution_count": 38,
   "metadata": {},
   "outputs": [],
   "source": [
    "dataframe = pd.DataFrame()\n",
    "dataframe['Teams'] = 0\n",
    "dataframe['HomeTeamWin%'] = 0\n",
    "dataframe['AwayTeamWin%'] = 0\n",
    "dataframe['Homedraw%']=0\n",
    "dataframe['Awaydraw%']=0\n",
    "dataframe['Awaylost%']=0\n",
    "dataframe['Homelost%']=0"
   ]
  },
  {
   "cell_type": "code",
   "execution_count": 39,
   "metadata": {},
   "outputs": [],
   "source": [
    "dataframe['Teams'] = HomeTeam.index"
   ]
  },
  {
   "cell_type": "code",
   "execution_count": 40,
   "metadata": {},
   "outputs": [
    {
     "name": "stderr",
     "output_type": "stream",
     "text": [
      "G:\\Python_And_Jupytor\\lib\\site-packages\\ipykernel_launcher.py:5: SettingWithCopyWarning: \n",
      "A value is trying to be set on a copy of a slice from a DataFrame\n",
      "\n",
      "See the caveats in the documentation: http://pandas.pydata.org/pandas-docs/stable/user_guide/indexing.html#returning-a-view-versus-a-copy\n",
      "  \"\"\"\n"
     ]
    }
   ],
   "source": [
    "for i in dataframe['Teams'].index:\n",
    "    a= modi_data[dataframe['Teams'][i] == modi_data['HomeTeam']]['FTR']\n",
    "    a.value_counts()\n",
    "    b=a[a=='H'].value_counts()\n",
    "    dataframe['HomeTeamWin%'][i]= round(b/sum(a.value_counts())*100,2)\n",
    "    "
   ]
  },
  {
   "cell_type": "code",
   "execution_count": 41,
   "metadata": {
    "scrolled": true
   },
   "outputs": [
    {
     "name": "stderr",
     "output_type": "stream",
     "text": [
      "G:\\Python_And_Jupytor\\lib\\site-packages\\ipykernel_launcher.py:5: SettingWithCopyWarning: \n",
      "A value is trying to be set on a copy of a slice from a DataFrame\n",
      "\n",
      "See the caveats in the documentation: http://pandas.pydata.org/pandas-docs/stable/user_guide/indexing.html#returning-a-view-versus-a-copy\n",
      "  \"\"\"\n"
     ]
    }
   ],
   "source": [
    "for i in dataframe['Teams'].index:\n",
    "    a= modi_data[dataframe['Teams'][i] == modi_data['AwayTeam']]['FTR']\n",
    "    a.value_counts()\n",
    "    b=a[a=='A'].value_counts()\n",
    "    dataframe['AwayTeamWin%'][i]= round(b/sum(a.value_counts())*100,2)\n",
    "    "
   ]
  },
  {
   "cell_type": "code",
   "execution_count": 42,
   "metadata": {},
   "outputs": [
    {
     "name": "stderr",
     "output_type": "stream",
     "text": [
      "G:\\Python_And_Jupytor\\lib\\site-packages\\ipykernel_launcher.py:5: SettingWithCopyWarning: \n",
      "A value is trying to be set on a copy of a slice from a DataFrame\n",
      "\n",
      "See the caveats in the documentation: http://pandas.pydata.org/pandas-docs/stable/user_guide/indexing.html#returning-a-view-versus-a-copy\n",
      "  \"\"\"\n"
     ]
    }
   ],
   "source": [
    "for i in dataframe['Teams'].index:\n",
    "    a= modi_data[dataframe['Teams'][i] == modi_data['AwayTeam']]['FTR']\n",
    "    a.value_counts()\n",
    "    b=a[a=='A'].value_counts()\n",
    "    dataframe['AwayTeamWin%'][i]= round(b/sum(a.value_counts())*100,2)"
   ]
  },
  {
   "cell_type": "code",
   "execution_count": 43,
   "metadata": {},
   "outputs": [
    {
     "name": "stderr",
     "output_type": "stream",
     "text": [
      "G:\\Python_And_Jupytor\\lib\\site-packages\\ipykernel_launcher.py:5: SettingWithCopyWarning: \n",
      "A value is trying to be set on a copy of a slice from a DataFrame\n",
      "\n",
      "See the caveats in the documentation: http://pandas.pydata.org/pandas-docs/stable/user_guide/indexing.html#returning-a-view-versus-a-copy\n",
      "  \"\"\"\n"
     ]
    }
   ],
   "source": [
    "for i in dataframe['Teams'].index:\n",
    "    a= modi_data[dataframe['Teams'][i] == modi_data['HomeTeam']]['FTR']\n",
    "    a.value_counts()\n",
    "    b=a[a=='D'].value_counts()\n",
    "    dataframe['Homedraw%'][i]= round(b/sum(a.value_counts())*100,2)"
   ]
  },
  {
   "cell_type": "code",
   "execution_count": 44,
   "metadata": {
    "scrolled": true
   },
   "outputs": [
    {
     "name": "stderr",
     "output_type": "stream",
     "text": [
      "G:\\Python_And_Jupytor\\lib\\site-packages\\ipykernel_launcher.py:5: SettingWithCopyWarning: \n",
      "A value is trying to be set on a copy of a slice from a DataFrame\n",
      "\n",
      "See the caveats in the documentation: http://pandas.pydata.org/pandas-docs/stable/user_guide/indexing.html#returning-a-view-versus-a-copy\n",
      "  \"\"\"\n"
     ]
    }
   ],
   "source": [
    "for i in dataframe['Teams'].index:\n",
    "    a= modi_data[dataframe['Teams'][i] == modi_data['AwayTeam']]['FTR']\n",
    "    a.value_counts()\n",
    "    b=a[a=='D'].value_counts()\n",
    "    dataframe['Awaydraw%'][i]= round(b/sum(a.value_counts())*100,2)"
   ]
  },
  {
   "cell_type": "code",
   "execution_count": 45,
   "metadata": {},
   "outputs": [
    {
     "name": "stderr",
     "output_type": "stream",
     "text": [
      "G:\\Python_And_Jupytor\\lib\\site-packages\\ipykernel_launcher.py:5: SettingWithCopyWarning: \n",
      "A value is trying to be set on a copy of a slice from a DataFrame\n",
      "\n",
      "See the caveats in the documentation: http://pandas.pydata.org/pandas-docs/stable/user_guide/indexing.html#returning-a-view-versus-a-copy\n",
      "  \"\"\"\n"
     ]
    }
   ],
   "source": [
    "for i in dataframe['Teams'].index:\n",
    "    a= modi_data[dataframe['Teams'][i] == modi_data['AwayTeam']]['FTR']\n",
    "    a.value_counts()\n",
    "    b=a[a=='H'].value_counts()\n",
    "    dataframe['Awaylost%'][i]= round(b/sum(a.value_counts())*100,2)"
   ]
  },
  {
   "cell_type": "code",
   "execution_count": 46,
   "metadata": {},
   "outputs": [
    {
     "name": "stderr",
     "output_type": "stream",
     "text": [
      "G:\\Python_And_Jupytor\\lib\\site-packages\\ipykernel_launcher.py:5: SettingWithCopyWarning: \n",
      "A value is trying to be set on a copy of a slice from a DataFrame\n",
      "\n",
      "See the caveats in the documentation: http://pandas.pydata.org/pandas-docs/stable/user_guide/indexing.html#returning-a-view-versus-a-copy\n",
      "  \"\"\"\n"
     ]
    }
   ],
   "source": [
    "for i in dataframe['Teams'].index:\n",
    "    a= modi_data[dataframe['Teams'][i] == modi_data['HomeTeam']]['FTR']\n",
    "    a.value_counts()\n",
    "    b=a[a=='A'].value_counts()\n",
    "    dataframe['Homelost%'][i]= round(b/sum(a.value_counts())*100,2)"
   ]
  },
  {
   "cell_type": "code",
   "execution_count": 47,
   "metadata": {},
   "outputs": [],
   "source": [
    "dataframe1 = dataframe.copy()"
   ]
  },
  {
   "cell_type": "code",
   "execution_count": 48,
   "metadata": {},
   "outputs": [
    {
     "data": {
      "text/plain": [
       "array(['Teams', 'HomeTeamWin%', 'AwayTeamWin%', 'Homedraw%', 'Awaydraw%',\n",
       "       'Awaylost%', 'Homelost%'], dtype=object)"
      ]
     },
     "execution_count": 48,
     "metadata": {},
     "output_type": "execute_result"
    }
   ],
   "source": [
    "dataframe1.columns.values"
   ]
  },
  {
   "cell_type": "code",
   "execution_count": 49,
   "metadata": {},
   "outputs": [],
   "source": [
    "col = ['Teams', 'HomeTeamWin%','Homelost%','Homedraw%','AwayTeamWin%', 'Awaydraw%',\n",
    "       'Awaylost%']"
   ]
  },
  {
   "cell_type": "code",
   "execution_count": 50,
   "metadata": {},
   "outputs": [],
   "source": [
    "dataframe1 = dataframe1[col]"
   ]
  },
  {
   "cell_type": "code",
   "execution_count": 51,
   "metadata": {},
   "outputs": [],
   "source": [
    "dataframe1['OverallWin%'] = dataframe1[['HomeTeamWin%','AwayTeamWin%']].sum(axis =1)"
   ]
  },
  {
   "cell_type": "code",
   "execution_count": 52,
   "metadata": {},
   "outputs": [],
   "source": [
    "dataframe1['OverallWin%']=dataframe1['OverallWin%']/2"
   ]
  },
  {
   "cell_type": "code",
   "execution_count": 53,
   "metadata": {},
   "outputs": [],
   "source": [
    "dataframe1 = dataframe1.sort_values(by='OverallWin%',ascending = False)"
   ]
  },
  {
   "cell_type": "code",
   "execution_count": 54,
   "metadata": {},
   "outputs": [],
   "source": [
    "dataframe1 = dataframe1.reset_index(drop=True)"
   ]
  },
  {
   "cell_type": "code",
   "execution_count": 55,
   "metadata": {},
   "outputs": [],
   "source": [
    "dataframe1['Matches'] = 0"
   ]
  },
  {
   "cell_type": "code",
   "execution_count": 56,
   "metadata": {},
   "outputs": [],
   "source": [
    "\n",
    "#modi_data[dataframe1['Teams'][0]==modi_data['HomeTeam']]['HomeTeam'].value_counts()\n",
    "total = modi_data['HomeTeam'].append(modi_data['AwayTeam'])\n",
    "total = total.reset_index(drop=True)"
   ]
  },
  {
   "cell_type": "code",
   "execution_count": 57,
   "metadata": {},
   "outputs": [
    {
     "name": "stderr",
     "output_type": "stream",
     "text": [
      "G:\\Python_And_Jupytor\\lib\\site-packages\\ipykernel_launcher.py:2: SettingWithCopyWarning: \n",
      "A value is trying to be set on a copy of a slice from a DataFrame\n",
      "\n",
      "See the caveats in the documentation: http://pandas.pydata.org/pandas-docs/stable/user_guide/indexing.html#returning-a-view-versus-a-copy\n",
      "  \n"
     ]
    }
   ],
   "source": [
    "for i in dataframe1['Teams'].index:\n",
    "    dataframe1['Matches'][i]=total[dataframe1['Teams'][i]==total].value_counts()\n",
    "\n",
    "\n"
   ]
  },
  {
   "cell_type": "code",
   "execution_count": 58,
   "metadata": {},
   "outputs": [],
   "source": [
    "dataframe1['AwayGoals'] = 0\n",
    "dataframe1['HomeGoals'] = 0"
   ]
  },
  {
   "cell_type": "code",
   "execution_count": 59,
   "metadata": {},
   "outputs": [
    {
     "name": "stderr",
     "output_type": "stream",
     "text": [
      "G:\\Python_And_Jupytor\\lib\\site-packages\\ipykernel_launcher.py:2: SettingWithCopyWarning: \n",
      "A value is trying to be set on a copy of a slice from a DataFrame\n",
      "\n",
      "See the caveats in the documentation: http://pandas.pydata.org/pandas-docs/stable/user_guide/indexing.html#returning-a-view-versus-a-copy\n",
      "  \n"
     ]
    }
   ],
   "source": [
    "for i in dataframe1.index:\n",
    "    dataframe1['AwayGoals'][i] = modi_data[dataframe1['Teams'][i]==modi_data['AwayTeam']]['FTAG'].sum()"
   ]
  },
  {
   "cell_type": "code",
   "execution_count": 60,
   "metadata": {},
   "outputs": [
    {
     "name": "stderr",
     "output_type": "stream",
     "text": [
      "G:\\Python_And_Jupytor\\lib\\site-packages\\ipykernel_launcher.py:2: SettingWithCopyWarning: \n",
      "A value is trying to be set on a copy of a slice from a DataFrame\n",
      "\n",
      "See the caveats in the documentation: http://pandas.pydata.org/pandas-docs/stable/user_guide/indexing.html#returning-a-view-versus-a-copy\n",
      "  \n"
     ]
    }
   ],
   "source": [
    "for i in dataframe1.index:\n",
    "    dataframe1['HomeGoals'][i] = modi_data[dataframe1['Teams'][i]==modi_data['HomeTeam']]['FTHG'].sum()"
   ]
  },
  {
   "cell_type": "code",
   "execution_count": 61,
   "metadata": {},
   "outputs": [
    {
     "data": {
      "text/html": [
       "<div>\n",
       "<style scoped>\n",
       "    .dataframe tbody tr th:only-of-type {\n",
       "        vertical-align: middle;\n",
       "    }\n",
       "\n",
       "    .dataframe tbody tr th {\n",
       "        vertical-align: top;\n",
       "    }\n",
       "\n",
       "    .dataframe thead th {\n",
       "        text-align: right;\n",
       "    }\n",
       "</style>\n",
       "<table border=\"1\" class=\"dataframe\">\n",
       "  <thead>\n",
       "    <tr style=\"text-align: right;\">\n",
       "      <th></th>\n",
       "      <th>Teams</th>\n",
       "      <th>HomeTeamWin%</th>\n",
       "      <th>Homelost%</th>\n",
       "      <th>Homedraw%</th>\n",
       "      <th>AwayTeamWin%</th>\n",
       "      <th>Awaydraw%</th>\n",
       "      <th>Awaylost%</th>\n",
       "      <th>OverallWin%</th>\n",
       "      <th>Matches</th>\n",
       "      <th>AwayGoals</th>\n",
       "      <th>HomeGoals</th>\n",
       "    </tr>\n",
       "  </thead>\n",
       "  <tbody>\n",
       "    <tr>\n",
       "      <th>0</th>\n",
       "      <td>Man City</td>\n",
       "      <td>75.00</td>\n",
       "      <td>13.16</td>\n",
       "      <td>11.84</td>\n",
       "      <td>47.37</td>\n",
       "      <td>27.63</td>\n",
       "      <td>25.00</td>\n",
       "      <td>61.185</td>\n",
       "      <td>152</td>\n",
       "      <td>127</td>\n",
       "      <td>195</td>\n",
       "    </tr>\n",
       "    <tr>\n",
       "      <th>1</th>\n",
       "      <td>Arsenal</td>\n",
       "      <td>63.16</td>\n",
       "      <td>11.84</td>\n",
       "      <td>25.00</td>\n",
       "      <td>51.32</td>\n",
       "      <td>23.68</td>\n",
       "      <td>25.00</td>\n",
       "      <td>57.240</td>\n",
       "      <td>152</td>\n",
       "      <td>121</td>\n",
       "      <td>155</td>\n",
       "    </tr>\n",
       "    <tr>\n",
       "      <th>2</th>\n",
       "      <td>Man United</td>\n",
       "      <td>67.11</td>\n",
       "      <td>19.74</td>\n",
       "      <td>13.16</td>\n",
       "      <td>46.05</td>\n",
       "      <td>27.63</td>\n",
       "      <td>26.32</td>\n",
       "      <td>56.580</td>\n",
       "      <td>152</td>\n",
       "      <td>119</td>\n",
       "      <td>142</td>\n",
       "    </tr>\n",
       "    <tr>\n",
       "      <th>3</th>\n",
       "      <td>Chelsea</td>\n",
       "      <td>61.84</td>\n",
       "      <td>10.53</td>\n",
       "      <td>27.63</td>\n",
       "      <td>50.00</td>\n",
       "      <td>23.68</td>\n",
       "      <td>26.32</td>\n",
       "      <td>55.920</td>\n",
       "      <td>152</td>\n",
       "      <td>126</td>\n",
       "      <td>152</td>\n",
       "    </tr>\n",
       "    <tr>\n",
       "      <th>4</th>\n",
       "      <td>Tottenham</td>\n",
       "      <td>55.26</td>\n",
       "      <td>22.37</td>\n",
       "      <td>22.37</td>\n",
       "      <td>50.00</td>\n",
       "      <td>23.68</td>\n",
       "      <td>26.32</td>\n",
       "      <td>52.630</td>\n",
       "      <td>152</td>\n",
       "      <td>123</td>\n",
       "      <td>125</td>\n",
       "    </tr>\n",
       "  </tbody>\n",
       "</table>\n",
       "</div>"
      ],
      "text/plain": [
       "        Teams  HomeTeamWin%  Homelost%  Homedraw%  AwayTeamWin%  Awaydraw%  \\\n",
       "0    Man City         75.00      13.16      11.84         47.37      27.63   \n",
       "1     Arsenal         63.16      11.84      25.00         51.32      23.68   \n",
       "2  Man United         67.11      19.74      13.16         46.05      27.63   \n",
       "3     Chelsea         61.84      10.53      27.63         50.00      23.68   \n",
       "4   Tottenham         55.26      22.37      22.37         50.00      23.68   \n",
       "\n",
       "   Awaylost%  OverallWin%  Matches  AwayGoals  HomeGoals  \n",
       "0      25.00       61.185      152        127        195  \n",
       "1      25.00       57.240      152        121        155  \n",
       "2      26.32       56.580      152        119        142  \n",
       "3      26.32       55.920      152        126        152  \n",
       "4      26.32       52.630      152        123        125  "
      ]
     },
     "execution_count": 61,
     "metadata": {},
     "output_type": "execute_result"
    }
   ],
   "source": [
    "dataframe1.head()"
   ]
  },
  {
   "cell_type": "code",
   "execution_count": 62,
   "metadata": {},
   "outputs": [
    {
     "data": {
      "text/html": [
       "<div>\n",
       "<style scoped>\n",
       "    .dataframe tbody tr th:only-of-type {\n",
       "        vertical-align: middle;\n",
       "    }\n",
       "\n",
       "    .dataframe tbody tr th {\n",
       "        vertical-align: top;\n",
       "    }\n",
       "\n",
       "    .dataframe thead th {\n",
       "        text-align: right;\n",
       "    }\n",
       "</style>\n",
       "<table border=\"1\" class=\"dataframe\">\n",
       "  <thead>\n",
       "    <tr style=\"text-align: right;\">\n",
       "      <th></th>\n",
       "      <th>Teams</th>\n",
       "      <th>HomeTeamWin%</th>\n",
       "      <th>Homelost%</th>\n",
       "      <th>Homedraw%</th>\n",
       "      <th>AwayTeamWin%</th>\n",
       "      <th>Awaydraw%</th>\n",
       "      <th>Awaylost%</th>\n",
       "      <th>OverallWin%</th>\n",
       "      <th>Matches</th>\n",
       "      <th>AwayGoals</th>\n",
       "      <th>HomeGoals</th>\n",
       "    </tr>\n",
       "  </thead>\n",
       "  <tbody>\n",
       "    <tr>\n",
       "      <th>0</th>\n",
       "      <td>Man City</td>\n",
       "      <td>75.00</td>\n",
       "      <td>13.16</td>\n",
       "      <td>11.84</td>\n",
       "      <td>47.37</td>\n",
       "      <td>27.63</td>\n",
       "      <td>25.00</td>\n",
       "      <td>61.185</td>\n",
       "      <td>152</td>\n",
       "      <td>127</td>\n",
       "      <td>195</td>\n",
       "    </tr>\n",
       "    <tr>\n",
       "      <th>1</th>\n",
       "      <td>Arsenal</td>\n",
       "      <td>63.16</td>\n",
       "      <td>11.84</td>\n",
       "      <td>25.00</td>\n",
       "      <td>51.32</td>\n",
       "      <td>23.68</td>\n",
       "      <td>25.00</td>\n",
       "      <td>57.240</td>\n",
       "      <td>152</td>\n",
       "      <td>121</td>\n",
       "      <td>155</td>\n",
       "    </tr>\n",
       "    <tr>\n",
       "      <th>2</th>\n",
       "      <td>Man United</td>\n",
       "      <td>67.11</td>\n",
       "      <td>19.74</td>\n",
       "      <td>13.16</td>\n",
       "      <td>46.05</td>\n",
       "      <td>27.63</td>\n",
       "      <td>26.32</td>\n",
       "      <td>56.580</td>\n",
       "      <td>152</td>\n",
       "      <td>119</td>\n",
       "      <td>142</td>\n",
       "    </tr>\n",
       "    <tr>\n",
       "      <th>3</th>\n",
       "      <td>Chelsea</td>\n",
       "      <td>61.84</td>\n",
       "      <td>10.53</td>\n",
       "      <td>27.63</td>\n",
       "      <td>50.00</td>\n",
       "      <td>23.68</td>\n",
       "      <td>26.32</td>\n",
       "      <td>55.920</td>\n",
       "      <td>152</td>\n",
       "      <td>126</td>\n",
       "      <td>152</td>\n",
       "    </tr>\n",
       "    <tr>\n",
       "      <th>4</th>\n",
       "      <td>Tottenham</td>\n",
       "      <td>55.26</td>\n",
       "      <td>22.37</td>\n",
       "      <td>22.37</td>\n",
       "      <td>50.00</td>\n",
       "      <td>23.68</td>\n",
       "      <td>26.32</td>\n",
       "      <td>52.630</td>\n",
       "      <td>152</td>\n",
       "      <td>123</td>\n",
       "      <td>125</td>\n",
       "    </tr>\n",
       "    <tr>\n",
       "      <th>5</th>\n",
       "      <td>Liverpool</td>\n",
       "      <td>56.58</td>\n",
       "      <td>17.11</td>\n",
       "      <td>26.32</td>\n",
       "      <td>43.42</td>\n",
       "      <td>25.00</td>\n",
       "      <td>31.58</td>\n",
       "      <td>50.000</td>\n",
       "      <td>152</td>\n",
       "      <td>138</td>\n",
       "      <td>149</td>\n",
       "    </tr>\n",
       "    <tr>\n",
       "      <th>6</th>\n",
       "      <td>Leicester</td>\n",
       "      <td>50.00</td>\n",
       "      <td>21.05</td>\n",
       "      <td>28.95</td>\n",
       "      <td>39.47</td>\n",
       "      <td>23.68</td>\n",
       "      <td>36.84</td>\n",
       "      <td>44.735</td>\n",
       "      <td>76</td>\n",
       "      <td>51</td>\n",
       "      <td>63</td>\n",
       "    </tr>\n",
       "    <tr>\n",
       "      <th>7</th>\n",
       "      <td>Everton</td>\n",
       "      <td>50.00</td>\n",
       "      <td>22.37</td>\n",
       "      <td>27.63</td>\n",
       "      <td>28.95</td>\n",
       "      <td>36.84</td>\n",
       "      <td>34.21</td>\n",
       "      <td>39.475</td>\n",
       "      <td>152</td>\n",
       "      <td>90</td>\n",
       "      <td>133</td>\n",
       "    </tr>\n",
       "    <tr>\n",
       "      <th>8</th>\n",
       "      <td>Southampton</td>\n",
       "      <td>47.37</td>\n",
       "      <td>26.32</td>\n",
       "      <td>26.32</td>\n",
       "      <td>31.58</td>\n",
       "      <td>26.32</td>\n",
       "      <td>42.11</td>\n",
       "      <td>39.475</td>\n",
       "      <td>152</td>\n",
       "      <td>82</td>\n",
       "      <td>134</td>\n",
       "    </tr>\n",
       "    <tr>\n",
       "      <th>9</th>\n",
       "      <td>West Ham</td>\n",
       "      <td>44.74</td>\n",
       "      <td>28.95</td>\n",
       "      <td>26.32</td>\n",
       "      <td>22.37</td>\n",
       "      <td>28.95</td>\n",
       "      <td>48.68</td>\n",
       "      <td>33.555</td>\n",
       "      <td>152</td>\n",
       "      <td>76</td>\n",
       "      <td>118</td>\n",
       "    </tr>\n",
       "    <tr>\n",
       "      <th>10</th>\n",
       "      <td>Stoke</td>\n",
       "      <td>46.05</td>\n",
       "      <td>27.63</td>\n",
       "      <td>26.32</td>\n",
       "      <td>21.05</td>\n",
       "      <td>31.58</td>\n",
       "      <td>47.37</td>\n",
       "      <td>33.550</td>\n",
       "      <td>152</td>\n",
       "      <td>66</td>\n",
       "      <td>102</td>\n",
       "    </tr>\n",
       "    <tr>\n",
       "      <th>11</th>\n",
       "      <td>Swansea</td>\n",
       "      <td>38.16</td>\n",
       "      <td>30.26</td>\n",
       "      <td>31.58</td>\n",
       "      <td>27.63</td>\n",
       "      <td>22.37</td>\n",
       "      <td>50.00</td>\n",
       "      <td>32.895</td>\n",
       "      <td>152</td>\n",
       "      <td>81</td>\n",
       "      <td>108</td>\n",
       "    </tr>\n",
       "    <tr>\n",
       "      <th>12</th>\n",
       "      <td>Crystal Palace</td>\n",
       "      <td>35.09</td>\n",
       "      <td>49.12</td>\n",
       "      <td>15.79</td>\n",
       "      <td>29.82</td>\n",
       "      <td>26.32</td>\n",
       "      <td>43.86</td>\n",
       "      <td>32.455</td>\n",
       "      <td>114</td>\n",
       "      <td>61</td>\n",
       "      <td>58</td>\n",
       "    </tr>\n",
       "    <tr>\n",
       "      <th>13</th>\n",
       "      <td>Watford</td>\n",
       "      <td>31.58</td>\n",
       "      <td>36.84</td>\n",
       "      <td>31.58</td>\n",
       "      <td>31.58</td>\n",
       "      <td>15.79</td>\n",
       "      <td>52.63</td>\n",
       "      <td>31.580</td>\n",
       "      <td>38</td>\n",
       "      <td>20</td>\n",
       "      <td>20</td>\n",
       "    </tr>\n",
       "    <tr>\n",
       "      <th>14</th>\n",
       "      <td>Newcastle</td>\n",
       "      <td>40.79</td>\n",
       "      <td>38.16</td>\n",
       "      <td>21.05</td>\n",
       "      <td>18.42</td>\n",
       "      <td>19.74</td>\n",
       "      <td>61.84</td>\n",
       "      <td>29.605</td>\n",
       "      <td>152</td>\n",
       "      <td>67</td>\n",
       "      <td>105</td>\n",
       "    </tr>\n",
       "    <tr>\n",
       "      <th>15</th>\n",
       "      <td>Bournemouth</td>\n",
       "      <td>26.32</td>\n",
       "      <td>47.37</td>\n",
       "      <td>26.32</td>\n",
       "      <td>31.58</td>\n",
       "      <td>21.05</td>\n",
       "      <td>47.37</td>\n",
       "      <td>28.950</td>\n",
       "      <td>38</td>\n",
       "      <td>22</td>\n",
       "      <td>23</td>\n",
       "    </tr>\n",
       "    <tr>\n",
       "      <th>16</th>\n",
       "      <td>West Brom</td>\n",
       "      <td>34.21</td>\n",
       "      <td>36.84</td>\n",
       "      <td>28.95</td>\n",
       "      <td>21.05</td>\n",
       "      <td>31.58</td>\n",
       "      <td>47.37</td>\n",
       "      <td>27.630</td>\n",
       "      <td>152</td>\n",
       "      <td>68</td>\n",
       "      <td>100</td>\n",
       "    </tr>\n",
       "    <tr>\n",
       "      <th>17</th>\n",
       "      <td>Fulham</td>\n",
       "      <td>31.58</td>\n",
       "      <td>52.63</td>\n",
       "      <td>15.79</td>\n",
       "      <td>21.05</td>\n",
       "      <td>23.68</td>\n",
       "      <td>55.26</td>\n",
       "      <td>26.315</td>\n",
       "      <td>76</td>\n",
       "      <td>38</td>\n",
       "      <td>52</td>\n",
       "    </tr>\n",
       "    <tr>\n",
       "      <th>18</th>\n",
       "      <td>Wigan</td>\n",
       "      <td>21.05</td>\n",
       "      <td>47.37</td>\n",
       "      <td>31.58</td>\n",
       "      <td>26.32</td>\n",
       "      <td>15.79</td>\n",
       "      <td>57.89</td>\n",
       "      <td>23.685</td>\n",
       "      <td>38</td>\n",
       "      <td>21</td>\n",
       "      <td>26</td>\n",
       "    </tr>\n",
       "    <tr>\n",
       "      <th>19</th>\n",
       "      <td>Norwich</td>\n",
       "      <td>35.09</td>\n",
       "      <td>33.33</td>\n",
       "      <td>31.58</td>\n",
       "      <td>12.28</td>\n",
       "      <td>21.05</td>\n",
       "      <td>66.67</td>\n",
       "      <td>23.685</td>\n",
       "      <td>114</td>\n",
       "      <td>40</td>\n",
       "      <td>68</td>\n",
       "    </tr>\n",
       "    <tr>\n",
       "      <th>20</th>\n",
       "      <td>Hull</td>\n",
       "      <td>31.58</td>\n",
       "      <td>44.74</td>\n",
       "      <td>23.68</td>\n",
       "      <td>15.79</td>\n",
       "      <td>23.68</td>\n",
       "      <td>60.53</td>\n",
       "      <td>23.685</td>\n",
       "      <td>76</td>\n",
       "      <td>32</td>\n",
       "      <td>39</td>\n",
       "    </tr>\n",
       "    <tr>\n",
       "      <th>21</th>\n",
       "      <td>Sunderland</td>\n",
       "      <td>26.32</td>\n",
       "      <td>40.79</td>\n",
       "      <td>32.89</td>\n",
       "      <td>19.74</td>\n",
       "      <td>31.58</td>\n",
       "      <td>48.68</td>\n",
       "      <td>23.030</td>\n",
       "      <td>152</td>\n",
       "      <td>81</td>\n",
       "      <td>80</td>\n",
       "    </tr>\n",
       "    <tr>\n",
       "      <th>22</th>\n",
       "      <td>Aston Villa</td>\n",
       "      <td>23.68</td>\n",
       "      <td>51.32</td>\n",
       "      <td>25.00</td>\n",
       "      <td>19.74</td>\n",
       "      <td>21.05</td>\n",
       "      <td>59.21</td>\n",
       "      <td>21.710</td>\n",
       "      <td>152</td>\n",
       "      <td>67</td>\n",
       "      <td>77</td>\n",
       "    </tr>\n",
       "    <tr>\n",
       "      <th>23</th>\n",
       "      <td>Cardiff</td>\n",
       "      <td>26.32</td>\n",
       "      <td>47.37</td>\n",
       "      <td>26.32</td>\n",
       "      <td>10.53</td>\n",
       "      <td>21.05</td>\n",
       "      <td>68.42</td>\n",
       "      <td>18.425</td>\n",
       "      <td>38</td>\n",
       "      <td>12</td>\n",
       "      <td>20</td>\n",
       "    </tr>\n",
       "    <tr>\n",
       "      <th>24</th>\n",
       "      <td>Burnley</td>\n",
       "      <td>21.05</td>\n",
       "      <td>42.11</td>\n",
       "      <td>36.84</td>\n",
       "      <td>15.79</td>\n",
       "      <td>26.32</td>\n",
       "      <td>57.89</td>\n",
       "      <td>18.420</td>\n",
       "      <td>38</td>\n",
       "      <td>14</td>\n",
       "      <td>14</td>\n",
       "    </tr>\n",
       "    <tr>\n",
       "      <th>25</th>\n",
       "      <td>Reading</td>\n",
       "      <td>21.05</td>\n",
       "      <td>36.84</td>\n",
       "      <td>42.11</td>\n",
       "      <td>10.53</td>\n",
       "      <td>10.53</td>\n",
       "      <td>78.95</td>\n",
       "      <td>15.790</td>\n",
       "      <td>38</td>\n",
       "      <td>20</td>\n",
       "      <td>23</td>\n",
       "    </tr>\n",
       "    <tr>\n",
       "      <th>26</th>\n",
       "      <td>QPR</td>\n",
       "      <td>21.05</td>\n",
       "      <td>44.74</td>\n",
       "      <td>34.21</td>\n",
       "      <td>10.53</td>\n",
       "      <td>15.79</td>\n",
       "      <td>73.68</td>\n",
       "      <td>15.790</td>\n",
       "      <td>76</td>\n",
       "      <td>36</td>\n",
       "      <td>36</td>\n",
       "    </tr>\n",
       "  </tbody>\n",
       "</table>\n",
       "</div>"
      ],
      "text/plain": [
       "             Teams  HomeTeamWin%  Homelost%  Homedraw%  AwayTeamWin%  \\\n",
       "0         Man City         75.00      13.16      11.84         47.37   \n",
       "1          Arsenal         63.16      11.84      25.00         51.32   \n",
       "2       Man United         67.11      19.74      13.16         46.05   \n",
       "3          Chelsea         61.84      10.53      27.63         50.00   \n",
       "4        Tottenham         55.26      22.37      22.37         50.00   \n",
       "5        Liverpool         56.58      17.11      26.32         43.42   \n",
       "6        Leicester         50.00      21.05      28.95         39.47   \n",
       "7          Everton         50.00      22.37      27.63         28.95   \n",
       "8      Southampton         47.37      26.32      26.32         31.58   \n",
       "9         West Ham         44.74      28.95      26.32         22.37   \n",
       "10           Stoke         46.05      27.63      26.32         21.05   \n",
       "11         Swansea         38.16      30.26      31.58         27.63   \n",
       "12  Crystal Palace         35.09      49.12      15.79         29.82   \n",
       "13         Watford         31.58      36.84      31.58         31.58   \n",
       "14       Newcastle         40.79      38.16      21.05         18.42   \n",
       "15     Bournemouth         26.32      47.37      26.32         31.58   \n",
       "16       West Brom         34.21      36.84      28.95         21.05   \n",
       "17          Fulham         31.58      52.63      15.79         21.05   \n",
       "18           Wigan         21.05      47.37      31.58         26.32   \n",
       "19         Norwich         35.09      33.33      31.58         12.28   \n",
       "20            Hull         31.58      44.74      23.68         15.79   \n",
       "21      Sunderland         26.32      40.79      32.89         19.74   \n",
       "22     Aston Villa         23.68      51.32      25.00         19.74   \n",
       "23         Cardiff         26.32      47.37      26.32         10.53   \n",
       "24         Burnley         21.05      42.11      36.84         15.79   \n",
       "25         Reading         21.05      36.84      42.11         10.53   \n",
       "26             QPR         21.05      44.74      34.21         10.53   \n",
       "\n",
       "    Awaydraw%  Awaylost%  OverallWin%  Matches  AwayGoals  HomeGoals  \n",
       "0       27.63      25.00       61.185      152        127        195  \n",
       "1       23.68      25.00       57.240      152        121        155  \n",
       "2       27.63      26.32       56.580      152        119        142  \n",
       "3       23.68      26.32       55.920      152        126        152  \n",
       "4       23.68      26.32       52.630      152        123        125  \n",
       "5       25.00      31.58       50.000      152        138        149  \n",
       "6       23.68      36.84       44.735       76         51         63  \n",
       "7       36.84      34.21       39.475      152         90        133  \n",
       "8       26.32      42.11       39.475      152         82        134  \n",
       "9       28.95      48.68       33.555      152         76        118  \n",
       "10      31.58      47.37       33.550      152         66        102  \n",
       "11      22.37      50.00       32.895      152         81        108  \n",
       "12      26.32      43.86       32.455      114         61         58  \n",
       "13      15.79      52.63       31.580       38         20         20  \n",
       "14      19.74      61.84       29.605      152         67        105  \n",
       "15      21.05      47.37       28.950       38         22         23  \n",
       "16      31.58      47.37       27.630      152         68        100  \n",
       "17      23.68      55.26       26.315       76         38         52  \n",
       "18      15.79      57.89       23.685       38         21         26  \n",
       "19      21.05      66.67       23.685      114         40         68  \n",
       "20      23.68      60.53       23.685       76         32         39  \n",
       "21      31.58      48.68       23.030      152         81         80  \n",
       "22      21.05      59.21       21.710      152         67         77  \n",
       "23      21.05      68.42       18.425       38         12         20  \n",
       "24      26.32      57.89       18.420       38         14         14  \n",
       "25      10.53      78.95       15.790       38         20         23  \n",
       "26      15.79      73.68       15.790       76         36         36  "
      ]
     },
     "execution_count": 62,
     "metadata": {},
     "output_type": "execute_result"
    }
   ],
   "source": [
    "dataframe1"
   ]
  },
  {
   "cell_type": "code",
   "execution_count": 63,
   "metadata": {},
   "outputs": [
    {
     "data": {
      "text/html": [
       "<div>\n",
       "<style scoped>\n",
       "    .dataframe tbody tr th:only-of-type {\n",
       "        vertical-align: middle;\n",
       "    }\n",
       "\n",
       "    .dataframe tbody tr th {\n",
       "        vertical-align: top;\n",
       "    }\n",
       "\n",
       "    .dataframe thead th {\n",
       "        text-align: right;\n",
       "    }\n",
       "</style>\n",
       "<table border=\"1\" class=\"dataframe\">\n",
       "  <thead>\n",
       "    <tr style=\"text-align: right;\">\n",
       "      <th></th>\n",
       "      <th>Teams</th>\n",
       "      <th>HomeTeamWin%</th>\n",
       "      <th>Homelost%</th>\n",
       "      <th>Homedraw%</th>\n",
       "      <th>AwayTeamWin%</th>\n",
       "      <th>Awaydraw%</th>\n",
       "      <th>Awaylost%</th>\n",
       "      <th>OverallWin%</th>\n",
       "      <th>Matches</th>\n",
       "      <th>AwayGoals</th>\n",
       "      <th>HomeGoals</th>\n",
       "    </tr>\n",
       "  </thead>\n",
       "  <tbody>\n",
       "    <tr>\n",
       "      <th>0</th>\n",
       "      <td>Man City</td>\n",
       "      <td>75.00</td>\n",
       "      <td>13.16</td>\n",
       "      <td>11.84</td>\n",
       "      <td>47.37</td>\n",
       "      <td>27.63</td>\n",
       "      <td>25.00</td>\n",
       "      <td>61.185</td>\n",
       "      <td>152</td>\n",
       "      <td>127</td>\n",
       "      <td>195</td>\n",
       "    </tr>\n",
       "    <tr>\n",
       "      <th>1</th>\n",
       "      <td>Arsenal</td>\n",
       "      <td>63.16</td>\n",
       "      <td>11.84</td>\n",
       "      <td>25.00</td>\n",
       "      <td>51.32</td>\n",
       "      <td>23.68</td>\n",
       "      <td>25.00</td>\n",
       "      <td>57.240</td>\n",
       "      <td>152</td>\n",
       "      <td>121</td>\n",
       "      <td>155</td>\n",
       "    </tr>\n",
       "    <tr>\n",
       "      <th>2</th>\n",
       "      <td>Man United</td>\n",
       "      <td>67.11</td>\n",
       "      <td>19.74</td>\n",
       "      <td>13.16</td>\n",
       "      <td>46.05</td>\n",
       "      <td>27.63</td>\n",
       "      <td>26.32</td>\n",
       "      <td>56.580</td>\n",
       "      <td>152</td>\n",
       "      <td>119</td>\n",
       "      <td>142</td>\n",
       "    </tr>\n",
       "    <tr>\n",
       "      <th>3</th>\n",
       "      <td>Chelsea</td>\n",
       "      <td>61.84</td>\n",
       "      <td>10.53</td>\n",
       "      <td>27.63</td>\n",
       "      <td>50.00</td>\n",
       "      <td>23.68</td>\n",
       "      <td>26.32</td>\n",
       "      <td>55.920</td>\n",
       "      <td>152</td>\n",
       "      <td>126</td>\n",
       "      <td>152</td>\n",
       "    </tr>\n",
       "    <tr>\n",
       "      <th>4</th>\n",
       "      <td>Tottenham</td>\n",
       "      <td>55.26</td>\n",
       "      <td>22.37</td>\n",
       "      <td>22.37</td>\n",
       "      <td>50.00</td>\n",
       "      <td>23.68</td>\n",
       "      <td>26.32</td>\n",
       "      <td>52.630</td>\n",
       "      <td>152</td>\n",
       "      <td>123</td>\n",
       "      <td>125</td>\n",
       "    </tr>\n",
       "  </tbody>\n",
       "</table>\n",
       "</div>"
      ],
      "text/plain": [
       "        Teams  HomeTeamWin%  Homelost%  Homedraw%  AwayTeamWin%  Awaydraw%  \\\n",
       "0    Man City         75.00      13.16      11.84         47.37      27.63   \n",
       "1     Arsenal         63.16      11.84      25.00         51.32      23.68   \n",
       "2  Man United         67.11      19.74      13.16         46.05      27.63   \n",
       "3     Chelsea         61.84      10.53      27.63         50.00      23.68   \n",
       "4   Tottenham         55.26      22.37      22.37         50.00      23.68   \n",
       "\n",
       "   Awaylost%  OverallWin%  Matches  AwayGoals  HomeGoals  \n",
       "0      25.00       61.185      152        127        195  \n",
       "1      25.00       57.240      152        121        155  \n",
       "2      26.32       56.580      152        119        142  \n",
       "3      26.32       55.920      152        126        152  \n",
       "4      26.32       52.630      152        123        125  "
      ]
     },
     "execution_count": 63,
     "metadata": {},
     "output_type": "execute_result"
    }
   ],
   "source": [
    "dataframe1.head()"
   ]
  },
  {
   "cell_type": "code",
   "execution_count": 64,
   "metadata": {},
   "outputs": [
    {
     "data": {
      "text/html": [
       "<div>\n",
       "<style scoped>\n",
       "    .dataframe tbody tr th:only-of-type {\n",
       "        vertical-align: middle;\n",
       "    }\n",
       "\n",
       "    .dataframe tbody tr th {\n",
       "        vertical-align: top;\n",
       "    }\n",
       "\n",
       "    .dataframe thead th {\n",
       "        text-align: right;\n",
       "    }\n",
       "</style>\n",
       "<table border=\"1\" class=\"dataframe\">\n",
       "  <thead>\n",
       "    <tr style=\"text-align: right;\">\n",
       "      <th></th>\n",
       "      <th>Teams</th>\n",
       "      <th>HomeTeamWin%</th>\n",
       "      <th>Homelost%</th>\n",
       "      <th>Homedraw%</th>\n",
       "      <th>AwayTeamWin%</th>\n",
       "      <th>Awaydraw%</th>\n",
       "      <th>Awaylost%</th>\n",
       "      <th>OverallWin%</th>\n",
       "      <th>Matches</th>\n",
       "      <th>AwayGoals</th>\n",
       "      <th>HomeGoals</th>\n",
       "    </tr>\n",
       "  </thead>\n",
       "  <tbody>\n",
       "    <tr>\n",
       "      <th>22</th>\n",
       "      <td>Aston Villa</td>\n",
       "      <td>23.68</td>\n",
       "      <td>51.32</td>\n",
       "      <td>25.00</td>\n",
       "      <td>19.74</td>\n",
       "      <td>21.05</td>\n",
       "      <td>59.21</td>\n",
       "      <td>21.710</td>\n",
       "      <td>152</td>\n",
       "      <td>67</td>\n",
       "      <td>77</td>\n",
       "    </tr>\n",
       "    <tr>\n",
       "      <th>23</th>\n",
       "      <td>Cardiff</td>\n",
       "      <td>26.32</td>\n",
       "      <td>47.37</td>\n",
       "      <td>26.32</td>\n",
       "      <td>10.53</td>\n",
       "      <td>21.05</td>\n",
       "      <td>68.42</td>\n",
       "      <td>18.425</td>\n",
       "      <td>38</td>\n",
       "      <td>12</td>\n",
       "      <td>20</td>\n",
       "    </tr>\n",
       "    <tr>\n",
       "      <th>24</th>\n",
       "      <td>Burnley</td>\n",
       "      <td>21.05</td>\n",
       "      <td>42.11</td>\n",
       "      <td>36.84</td>\n",
       "      <td>15.79</td>\n",
       "      <td>26.32</td>\n",
       "      <td>57.89</td>\n",
       "      <td>18.420</td>\n",
       "      <td>38</td>\n",
       "      <td>14</td>\n",
       "      <td>14</td>\n",
       "    </tr>\n",
       "    <tr>\n",
       "      <th>25</th>\n",
       "      <td>Reading</td>\n",
       "      <td>21.05</td>\n",
       "      <td>36.84</td>\n",
       "      <td>42.11</td>\n",
       "      <td>10.53</td>\n",
       "      <td>10.53</td>\n",
       "      <td>78.95</td>\n",
       "      <td>15.790</td>\n",
       "      <td>38</td>\n",
       "      <td>20</td>\n",
       "      <td>23</td>\n",
       "    </tr>\n",
       "    <tr>\n",
       "      <th>26</th>\n",
       "      <td>QPR</td>\n",
       "      <td>21.05</td>\n",
       "      <td>44.74</td>\n",
       "      <td>34.21</td>\n",
       "      <td>10.53</td>\n",
       "      <td>15.79</td>\n",
       "      <td>73.68</td>\n",
       "      <td>15.790</td>\n",
       "      <td>76</td>\n",
       "      <td>36</td>\n",
       "      <td>36</td>\n",
       "    </tr>\n",
       "  </tbody>\n",
       "</table>\n",
       "</div>"
      ],
      "text/plain": [
       "          Teams  HomeTeamWin%  Homelost%  Homedraw%  AwayTeamWin%  Awaydraw%  \\\n",
       "22  Aston Villa         23.68      51.32      25.00         19.74      21.05   \n",
       "23      Cardiff         26.32      47.37      26.32         10.53      21.05   \n",
       "24      Burnley         21.05      42.11      36.84         15.79      26.32   \n",
       "25      Reading         21.05      36.84      42.11         10.53      10.53   \n",
       "26          QPR         21.05      44.74      34.21         10.53      15.79   \n",
       "\n",
       "    Awaylost%  OverallWin%  Matches  AwayGoals  HomeGoals  \n",
       "22      59.21       21.710      152         67         77  \n",
       "23      68.42       18.425       38         12         20  \n",
       "24      57.89       18.420       38         14         14  \n",
       "25      78.95       15.790       38         20         23  \n",
       "26      73.68       15.790       76         36         36  "
      ]
     },
     "execution_count": 64,
     "metadata": {},
     "output_type": "execute_result"
    }
   ],
   "source": [
    "dataframe1.tail()"
   ]
  },
  {
   "cell_type": "code",
   "execution_count": 65,
   "metadata": {},
   "outputs": [
    {
     "data": {
      "text/plain": [
       "<matplotlib.axes._subplots.AxesSubplot at 0x1a31638db00>"
      ]
     },
     "execution_count": 65,
     "metadata": {},
     "output_type": "execute_result"
    },
    {
     "data": {
      "image/png": "[encoded data removed]",
      "text/plain": [
       "<Figure size 432x288 with 2 Axes>"
      ]
     },
     "metadata": {
      "needs_background": "light"
     },
     "output_type": "display_data"
    }
   ],
   "source": [
    "correc = dataframe1.corr()\n",
    "sns.heatmap(correc,fmt = 'd')"
   ]
  },
  {
   "cell_type": "code",
   "execution_count": 66,
   "metadata": {},
   "outputs": [
    {
     "data": {
      "text/plain": [
       "<matplotlib.axes._subplots.AxesSubplot at 0x1a316446860>"
      ]
     },
     "execution_count": 66,
     "metadata": {},
     "output_type": "execute_result"
    },
    {
     "data": {
      "image/png": "[encoded data removed]",
      "text/plain": [
       "<Figure size 432x288 with 1 Axes>"
      ]
     },
     "metadata": {
      "needs_background": "light"
     },
     "output_type": "display_data"
    }
   ],
   "source": [
    "sns.regplot(x=dataframe1['OverallWin%'],y=dataframe1['AwayGoals'],data=dataframe1)"
   ]
  },
  {
   "cell_type": "code",
   "execution_count": 67,
   "metadata": {},
   "outputs": [],
   "source": [
    "#Overall Win% for each Team"
   ]
  },
  {
   "cell_type": "code",
   "execution_count": 68,
   "metadata": {},
   "outputs": [
    {
     "data": {
      "text/plain": [
       "<matplotlib.axes._subplots.AxesSubplot at 0x1a31635c5f8>"
      ]
     },
     "execution_count": 68,
     "metadata": {},
     "output_type": "execute_result"
    },
    {
     "data": {
      "image/png": "[encoded data removed]",
      "text/plain": [
       "<Figure size 648x648 with 1 Axes>"
      ]
     },
     "metadata": {
      "needs_background": "light"
     },
     "output_type": "display_data"
    }
   ],
   "source": [
    "plt.figure(figsize=(9,9))\n",
    "sns.barplot(x = dataframe1['OverallWin%'],y = dataframe1['Teams'])"
   ]
  },
  {
   "cell_type": "code",
   "execution_count": 69,
   "metadata": {},
   "outputs": [],
   "source": [
    "#Number of fouls committed permatch by  HomeTeam"
   ]
  },
  {
   "cell_type": "code",
   "execution_count": 70,
   "metadata": {
    "scrolled": true
   },
   "outputs": [
    {
     "data": {
      "text/plain": [
       "<matplotlib.axes._subplots.AxesSubplot at 0x1a315f48470>"
      ]
     },
     "execution_count": 70,
     "metadata": {},
     "output_type": "execute_result"
    },
    {
     "data": {
      "image/png": "[encoded data removed]",
      "text/plain": [
       "<Figure size 648x576 with 1 Axes>"
      ]
     },
     "metadata": {
      "needs_background": "light"
     },
     "output_type": "display_data"
    }
   ],
   "source": [
    "plt.figure(figsize = (9,8))\n",
    "sns.barplot(x= modi_data['HF'],y=modi_data['HomeTeam'])"
   ]
  },
  {
   "cell_type": "code",
   "execution_count": 71,
   "metadata": {},
   "outputs": [],
   "source": [
    "#Number of fouls committed permatch by  AwayTeam"
   ]
  },
  {
   "cell_type": "code",
   "execution_count": 72,
   "metadata": {},
   "outputs": [
    {
     "data": {
      "text/plain": [
       "<matplotlib.axes._subplots.AxesSubplot at 0x1a3166a52e8>"
      ]
     },
     "execution_count": 72,
     "metadata": {},
     "output_type": "execute_result"
    },
    {
     "data": {
      "image/png": "[encoded data removed]",
      "text/plain": [
       "<Figure size 648x576 with 1 Axes>"
      ]
     },
     "metadata": {
      "needs_background": "light"
     },
     "output_type": "display_data"
    }
   ],
   "source": [
    "plt.figure(figsize = (9,8))\n",
    "sns.barplot(x= modi_data['AF'],y=modi_data['AwayTeam'])"
   ]
  },
  {
   "cell_type": "code",
   "execution_count": 73,
   "metadata": {},
   "outputs": [],
   "source": [
    "#Number of shots on target permatch by  HomeTeam"
   ]
  },
  {
   "cell_type": "code",
   "execution_count": 74,
   "metadata": {},
   "outputs": [
    {
     "data": {
      "text/plain": [
       "<matplotlib.axes._subplots.AxesSubplot at 0x1a316c89cf8>"
      ]
     },
     "execution_count": 74,
     "metadata": {},
     "output_type": "execute_result"
    },
    {
     "data": {
      "image/png": "[encoded data removed]",
      "text/plain": [
       "<Figure size 648x576 with 1 Axes>"
      ]
     },
     "metadata": {
      "needs_background": "light"
     },
     "output_type": "display_data"
    }
   ],
   "source": [
    "plt.figure(figsize = (9,8))\n",
    "sns.barplot(x= modi_data['HST'],y=modi_data['HomeTeam'])"
   ]
  },
  {
   "cell_type": "code",
   "execution_count": 75,
   "metadata": {},
   "outputs": [],
   "source": [
    "#Number of shots on target permatch by  AwayTeam"
   ]
  },
  {
   "cell_type": "code",
   "execution_count": 76,
   "metadata": {},
   "outputs": [
    {
     "data": {
      "text/plain": [
       "<matplotlib.axes._subplots.AxesSubplot at 0x1a316eb1b38>"
      ]
     },
     "execution_count": 76,
     "metadata": {},
     "output_type": "execute_result"
    },
    {
     "data": {
      "image/png": "[encoded data removed]",
      "text/plain": [
       "<Figure size 648x576 with 1 Axes>"
      ]
     },
     "metadata": {
      "needs_background": "light"
     },
     "output_type": "display_data"
    }
   ],
   "source": [
    "plt.figure(figsize = (9,8))\n",
    "sns.barplot(x= modi_data['AST'],y=modi_data['AwayTeam'])"
   ]
  },
  {
   "cell_type": "code",
   "execution_count": 77,
   "metadata": {},
   "outputs": [],
   "source": [
    "newdata = pd.DataFrame()\n",
    "newdata['Teams']=0\n",
    "newdata['Matches'] =0\n",
    "newdata['HomeFoul']=0\n",
    "newdata['AwayFoul']=0\n",
    "newdata['Homeshots']=0\n",
    "newdata['Awayshots']=0"
   ]
  },
  {
   "cell_type": "code",
   "execution_count": 78,
   "metadata": {},
   "outputs": [],
   "source": [
    "newdata[['Teams','Matches']] = dataframe1[['Teams','Matches']]"
   ]
  },
  {
   "cell_type": "code",
   "execution_count": 79,
   "metadata": {},
   "outputs": [
    {
     "name": "stderr",
     "output_type": "stream",
     "text": [
      "G:\\Python_And_Jupytor\\lib\\site-packages\\ipykernel_launcher.py:4: SettingWithCopyWarning: \n",
      "A value is trying to be set on a copy of a slice from a DataFrame\n",
      "\n",
      "See the caveats in the documentation: http://pandas.pydata.org/pandas-docs/stable/user_guide/indexing.html#returning-a-view-versus-a-copy\n",
      "  after removing the cwd from sys.path.\n"
     ]
    }
   ],
   "source": [
    "#modi_data[['HomeTeam','HF']]\n",
    "for i in newdata['Teams'].index:\n",
    "    a = modi_data[newdata['Teams'][i] == modi_data['HomeTeam']]['HF']\n",
    "    newdata['HomeFoul'][i]=a.sum(axis = 0)"
   ]
  },
  {
   "cell_type": "code",
   "execution_count": 80,
   "metadata": {},
   "outputs": [
    {
     "name": "stderr",
     "output_type": "stream",
     "text": [
      "G:\\Python_And_Jupytor\\lib\\site-packages\\ipykernel_launcher.py:3: SettingWithCopyWarning: \n",
      "A value is trying to be set on a copy of a slice from a DataFrame\n",
      "\n",
      "See the caveats in the documentation: http://pandas.pydata.org/pandas-docs/stable/user_guide/indexing.html#returning-a-view-versus-a-copy\n",
      "  This is separate from the ipykernel package so we can avoid doing imports until\n"
     ]
    }
   ],
   "source": [
    "for i in newdata['Teams'].index:\n",
    "    a = modi_data[newdata['Teams'][i] == modi_data['AwayTeam']]['AF']\n",
    "    newdata['AwayFoul'][i]=a.sum(axis = 0)"
   ]
  },
  {
   "cell_type": "code",
   "execution_count": 81,
   "metadata": {},
   "outputs": [
    {
     "name": "stderr",
     "output_type": "stream",
     "text": [
      "G:\\Python_And_Jupytor\\lib\\site-packages\\ipykernel_launcher.py:3: SettingWithCopyWarning: \n",
      "A value is trying to be set on a copy of a slice from a DataFrame\n",
      "\n",
      "See the caveats in the documentation: http://pandas.pydata.org/pandas-docs/stable/user_guide/indexing.html#returning-a-view-versus-a-copy\n",
      "  This is separate from the ipykernel package so we can avoid doing imports until\n"
     ]
    }
   ],
   "source": [
    "for i in newdata['Teams'].index:\n",
    "    a = modi_data[newdata['Teams'][i] == modi_data['HomeTeam']]['HST']\n",
    "    newdata['Homeshots'][i]=a.sum(axis = 0)"
   ]
  },
  {
   "cell_type": "code",
   "execution_count": 82,
   "metadata": {},
   "outputs": [
    {
     "name": "stderr",
     "output_type": "stream",
     "text": [
      "G:\\Python_And_Jupytor\\lib\\site-packages\\ipykernel_launcher.py:3: SettingWithCopyWarning: \n",
      "A value is trying to be set on a copy of a slice from a DataFrame\n",
      "\n",
      "See the caveats in the documentation: http://pandas.pydata.org/pandas-docs/stable/user_guide/indexing.html#returning-a-view-versus-a-copy\n",
      "  This is separate from the ipykernel package so we can avoid doing imports until\n"
     ]
    }
   ],
   "source": [
    "for i in newdata['Teams'].index:\n",
    "    a = modi_data[newdata['Teams'][i] == modi_data['HomeTeam']]['HST']\n",
    "    newdata['Homeshots'][i]=a.sum(axis = 0)"
   ]
  },
  {
   "cell_type": "code",
   "execution_count": 83,
   "metadata": {},
   "outputs": [
    {
     "data": {
      "text/plain": [
       "27"
      ]
     },
     "execution_count": 83,
     "metadata": {},
     "output_type": "execute_result"
    }
   ],
   "source": [
    "newdata.shape[0]"
   ]
  },
  {
   "cell_type": "code",
   "execution_count": 84,
   "metadata": {},
   "outputs": [
    {
     "name": "stderr",
     "output_type": "stream",
     "text": [
      "G:\\Python_And_Jupytor\\lib\\site-packages\\ipykernel_launcher.py:3: SettingWithCopyWarning: \n",
      "A value is trying to be set on a copy of a slice from a DataFrame\n",
      "\n",
      "See the caveats in the documentation: http://pandas.pydata.org/pandas-docs/stable/user_guide/indexing.html#returning-a-view-versus-a-copy\n",
      "  This is separate from the ipykernel package so we can avoid doing imports until\n"
     ]
    }
   ],
   "source": [
    "for i in range(newdata.shape[0]):\n",
    "    a = modi_data[newdata['Teams'][i] == modi_data['AwayTeam']]['AST']\n",
    "    newdata['Awayshots'][i]=a.sum(axis = 0)"
   ]
  },
  {
   "cell_type": "code",
   "execution_count": 85,
   "metadata": {},
   "outputs": [
    {
     "data": {
      "text/html": [
       "<div>\n",
       "<style scoped>\n",
       "    .dataframe tbody tr th:only-of-type {\n",
       "        vertical-align: middle;\n",
       "    }\n",
       "\n",
       "    .dataframe tbody tr th {\n",
       "        vertical-align: top;\n",
       "    }\n",
       "\n",
       "    .dataframe thead th {\n",
       "        text-align: right;\n",
       "    }\n",
       "</style>\n",
       "<table border=\"1\" class=\"dataframe\">\n",
       "  <thead>\n",
       "    <tr style=\"text-align: right;\">\n",
       "      <th></th>\n",
       "      <th>Teams</th>\n",
       "      <th>Matches</th>\n",
       "      <th>HomeFoul</th>\n",
       "      <th>AwayFoul</th>\n",
       "      <th>Homeshots</th>\n",
       "      <th>Awayshots</th>\n",
       "    </tr>\n",
       "  </thead>\n",
       "  <tbody>\n",
       "    <tr>\n",
       "      <th>0</th>\n",
       "      <td>Man City</td>\n",
       "      <td>152</td>\n",
       "      <td>826.0</td>\n",
       "      <td>865.0</td>\n",
       "      <td>556.0</td>\n",
       "      <td>472.0</td>\n",
       "    </tr>\n",
       "    <tr>\n",
       "      <th>1</th>\n",
       "      <td>Arsenal</td>\n",
       "      <td>152</td>\n",
       "      <td>725.0</td>\n",
       "      <td>710.0</td>\n",
       "      <td>550.0</td>\n",
       "      <td>424.0</td>\n",
       "    </tr>\n",
       "    <tr>\n",
       "      <th>2</th>\n",
       "      <td>Man United</td>\n",
       "      <td>152</td>\n",
       "      <td>824.0</td>\n",
       "      <td>861.0</td>\n",
       "      <td>444.0</td>\n",
       "      <td>358.0</td>\n",
       "    </tr>\n",
       "    <tr>\n",
       "      <th>3</th>\n",
       "      <td>Chelsea</td>\n",
       "      <td>152</td>\n",
       "      <td>810.0</td>\n",
       "      <td>771.0</td>\n",
       "      <td>553.0</td>\n",
       "      <td>394.0</td>\n",
       "    </tr>\n",
       "    <tr>\n",
       "      <th>4</th>\n",
       "      <td>Tottenham</td>\n",
       "      <td>152</td>\n",
       "      <td>791.0</td>\n",
       "      <td>847.0</td>\n",
       "      <td>551.0</td>\n",
       "      <td>441.0</td>\n",
       "    </tr>\n",
       "    <tr>\n",
       "      <th>5</th>\n",
       "      <td>Liverpool</td>\n",
       "      <td>152</td>\n",
       "      <td>750.0</td>\n",
       "      <td>839.0</td>\n",
       "      <td>578.0</td>\n",
       "      <td>463.0</td>\n",
       "    </tr>\n",
       "    <tr>\n",
       "      <th>6</th>\n",
       "      <td>Leicester</td>\n",
       "      <td>76</td>\n",
       "      <td>404.0</td>\n",
       "      <td>458.0</td>\n",
       "      <td>172.0</td>\n",
       "      <td>146.0</td>\n",
       "    </tr>\n",
       "    <tr>\n",
       "      <th>7</th>\n",
       "      <td>Everton</td>\n",
       "      <td>152</td>\n",
       "      <td>705.0</td>\n",
       "      <td>776.0</td>\n",
       "      <td>471.0</td>\n",
       "      <td>386.0</td>\n",
       "    </tr>\n",
       "    <tr>\n",
       "      <th>8</th>\n",
       "      <td>Southampton</td>\n",
       "      <td>152</td>\n",
       "      <td>821.0</td>\n",
       "      <td>888.0</td>\n",
       "      <td>435.0</td>\n",
       "      <td>335.0</td>\n",
       "    </tr>\n",
       "    <tr>\n",
       "      <th>9</th>\n",
       "      <td>West Ham</td>\n",
       "      <td>152</td>\n",
       "      <td>798.0</td>\n",
       "      <td>850.0</td>\n",
       "      <td>408.0</td>\n",
       "      <td>297.0</td>\n",
       "    </tr>\n",
       "    <tr>\n",
       "      <th>10</th>\n",
       "      <td>Stoke</td>\n",
       "      <td>152</td>\n",
       "      <td>875.0</td>\n",
       "      <td>958.0</td>\n",
       "      <td>309.0</td>\n",
       "      <td>261.0</td>\n",
       "    </tr>\n",
       "    <tr>\n",
       "      <th>11</th>\n",
       "      <td>Swansea</td>\n",
       "      <td>152</td>\n",
       "      <td>737.0</td>\n",
       "      <td>813.0</td>\n",
       "      <td>400.0</td>\n",
       "      <td>308.0</td>\n",
       "    </tr>\n",
       "    <tr>\n",
       "      <th>12</th>\n",
       "      <td>Crystal Palace</td>\n",
       "      <td>114</td>\n",
       "      <td>685.0</td>\n",
       "      <td>711.0</td>\n",
       "      <td>241.0</td>\n",
       "      <td>193.0</td>\n",
       "    </tr>\n",
       "    <tr>\n",
       "      <th>13</th>\n",
       "      <td>Watford</td>\n",
       "      <td>38</td>\n",
       "      <td>210.0</td>\n",
       "      <td>250.0</td>\n",
       "      <td>74.0</td>\n",
       "      <td>62.0</td>\n",
       "    </tr>\n",
       "    <tr>\n",
       "      <th>14</th>\n",
       "      <td>Newcastle</td>\n",
       "      <td>152</td>\n",
       "      <td>840.0</td>\n",
       "      <td>856.0</td>\n",
       "      <td>409.0</td>\n",
       "      <td>322.0</td>\n",
       "    </tr>\n",
       "    <tr>\n",
       "      <th>15</th>\n",
       "      <td>Bournemouth</td>\n",
       "      <td>38</td>\n",
       "      <td>175.0</td>\n",
       "      <td>187.0</td>\n",
       "      <td>83.0</td>\n",
       "      <td>61.0</td>\n",
       "    </tr>\n",
       "    <tr>\n",
       "      <th>16</th>\n",
       "      <td>West Brom</td>\n",
       "      <td>152</td>\n",
       "      <td>777.0</td>\n",
       "      <td>872.0</td>\n",
       "      <td>357.0</td>\n",
       "      <td>277.0</td>\n",
       "    </tr>\n",
       "    <tr>\n",
       "      <th>17</th>\n",
       "      <td>Fulham</td>\n",
       "      <td>76</td>\n",
       "      <td>373.0</td>\n",
       "      <td>394.0</td>\n",
       "      <td>236.0</td>\n",
       "      <td>157.0</td>\n",
       "    </tr>\n",
       "    <tr>\n",
       "      <th>18</th>\n",
       "      <td>Wigan</td>\n",
       "      <td>38</td>\n",
       "      <td>212.0</td>\n",
       "      <td>204.0</td>\n",
       "      <td>137.0</td>\n",
       "      <td>120.0</td>\n",
       "    </tr>\n",
       "    <tr>\n",
       "      <th>19</th>\n",
       "      <td>Norwich</td>\n",
       "      <td>114</td>\n",
       "      <td>600.0</td>\n",
       "      <td>632.0</td>\n",
       "      <td>269.0</td>\n",
       "      <td>206.0</td>\n",
       "    </tr>\n",
       "    <tr>\n",
       "      <th>20</th>\n",
       "      <td>Hull</td>\n",
       "      <td>76</td>\n",
       "      <td>433.0</td>\n",
       "      <td>439.0</td>\n",
       "      <td>151.0</td>\n",
       "      <td>109.0</td>\n",
       "    </tr>\n",
       "    <tr>\n",
       "      <th>21</th>\n",
       "      <td>Sunderland</td>\n",
       "      <td>152</td>\n",
       "      <td>833.0</td>\n",
       "      <td>869.0</td>\n",
       "      <td>330.0</td>\n",
       "      <td>300.0</td>\n",
       "    </tr>\n",
       "    <tr>\n",
       "      <th>22</th>\n",
       "      <td>Aston Villa</td>\n",
       "      <td>152</td>\n",
       "      <td>827.0</td>\n",
       "      <td>916.0</td>\n",
       "      <td>326.0</td>\n",
       "      <td>271.0</td>\n",
       "    </tr>\n",
       "    <tr>\n",
       "      <th>23</th>\n",
       "      <td>Cardiff</td>\n",
       "      <td>38</td>\n",
       "      <td>167.0</td>\n",
       "      <td>175.0</td>\n",
       "      <td>74.0</td>\n",
       "      <td>52.0</td>\n",
       "    </tr>\n",
       "    <tr>\n",
       "      <th>24</th>\n",
       "      <td>Burnley</td>\n",
       "      <td>38</td>\n",
       "      <td>212.0</td>\n",
       "      <td>194.0</td>\n",
       "      <td>70.0</td>\n",
       "      <td>55.0</td>\n",
       "    </tr>\n",
       "    <tr>\n",
       "      <th>25</th>\n",
       "      <td>Reading</td>\n",
       "      <td>38</td>\n",
       "      <td>169.0</td>\n",
       "      <td>190.0</td>\n",
       "      <td>85.0</td>\n",
       "      <td>94.0</td>\n",
       "    </tr>\n",
       "    <tr>\n",
       "      <th>26</th>\n",
       "      <td>QPR</td>\n",
       "      <td>76</td>\n",
       "      <td>399.0</td>\n",
       "      <td>432.0</td>\n",
       "      <td>223.0</td>\n",
       "      <td>173.0</td>\n",
       "    </tr>\n",
       "  </tbody>\n",
       "</table>\n",
       "</div>"
      ],
      "text/plain": [
       "             Teams  Matches  HomeFoul  AwayFoul  Homeshots  Awayshots\n",
       "0         Man City      152     826.0     865.0      556.0      472.0\n",
       "1          Arsenal      152     725.0     710.0      550.0      424.0\n",
       "2       Man United      152     824.0     861.0      444.0      358.0\n",
       "3          Chelsea      152     810.0     771.0      553.0      394.0\n",
       "4        Tottenham      152     791.0     847.0      551.0      441.0\n",
       "5        Liverpool      152     750.0     839.0      578.0      463.0\n",
       "6        Leicester       76     404.0     458.0      172.0      146.0\n",
       "7          Everton      152     705.0     776.0      471.0      386.0\n",
       "8      Southampton      152     821.0     888.0      435.0      335.0\n",
       "9         West Ham      152     798.0     850.0      408.0      297.0\n",
       "10           Stoke      152     875.0     958.0      309.0      261.0\n",
       "11         Swansea      152     737.0     813.0      400.0      308.0\n",
       "12  Crystal Palace      114     685.0     711.0      241.0      193.0\n",
       "13         Watford       38     210.0     250.0       74.0       62.0\n",
       "14       Newcastle      152     840.0     856.0      409.0      322.0\n",
       "15     Bournemouth       38     175.0     187.0       83.0       61.0\n",
       "16       West Brom      152     777.0     872.0      357.0      277.0\n",
       "17          Fulham       76     373.0     394.0      236.0      157.0\n",
       "18           Wigan       38     212.0     204.0      137.0      120.0\n",
       "19         Norwich      114     600.0     632.0      269.0      206.0\n",
       "20            Hull       76     433.0     439.0      151.0      109.0\n",
       "21      Sunderland      152     833.0     869.0      330.0      300.0\n",
       "22     Aston Villa      152     827.0     916.0      326.0      271.0\n",
       "23         Cardiff       38     167.0     175.0       74.0       52.0\n",
       "24         Burnley       38     212.0     194.0       70.0       55.0\n",
       "25         Reading       38     169.0     190.0       85.0       94.0\n",
       "26             QPR       76     399.0     432.0      223.0      173.0"
      ]
     },
     "execution_count": 85,
     "metadata": {},
     "output_type": "execute_result"
    }
   ],
   "source": [
    "newdata"
   ]
  },
  {
   "cell_type": "code",
   "execution_count": 86,
   "metadata": {},
   "outputs": [],
   "source": [
    "# Number of Homefouls committed"
   ]
  },
  {
   "cell_type": "code",
   "execution_count": 87,
   "metadata": {},
   "outputs": [
    {
     "data": {
      "text/plain": [
       "<matplotlib.axes._subplots.AxesSubplot at 0x1a31736ee48>"
      ]
     },
     "execution_count": 87,
     "metadata": {},
     "output_type": "execute_result"
    },
    {
     "data": {
      "image/png": "[encoded data removed]",
      "text/plain": [
       "<Figure size 648x576 with 1 Axes>"
      ]
     },
     "metadata": {
      "needs_background": "light"
     },
     "output_type": "display_data"
    }
   ],
   "source": [
    "plt.figure(figsize = (9,8))\n",
    "sns.barplot(y= newdata['Teams'],x=newdata['HomeFoul'])"
   ]
  },
  {
   "cell_type": "code",
   "execution_count": 88,
   "metadata": {},
   "outputs": [],
   "source": [
    "# Number of Awayfouls committed"
   ]
  },
  {
   "cell_type": "code",
   "execution_count": 89,
   "metadata": {},
   "outputs": [
    {
     "data": {
      "text/plain": [
       "<matplotlib.axes._subplots.AxesSubplot at 0x1a3174dafd0>"
      ]
     },
     "execution_count": 89,
     "metadata": {},
     "output_type": "execute_result"
    },
    {
     "data": {
      "image/png": "[encoded data removed]",
      "text/plain": [
       "<Figure size 648x576 with 1 Axes>"
      ]
     },
     "metadata": {
      "needs_background": "light"
     },
     "output_type": "display_data"
    }
   ],
   "source": [
    "plt.figure(figsize = (9,8))\n",
    "sns.barplot(y= newdata['Teams'],x=newdata['AwayFoul'])"
   ]
  },
  {
   "cell_type": "code",
   "execution_count": 90,
   "metadata": {},
   "outputs": [],
   "source": [
    "#Number of Awayshots by each Team"
   ]
  },
  {
   "cell_type": "code",
   "execution_count": 91,
   "metadata": {},
   "outputs": [
    {
     "data": {
      "text/plain": [
       "<matplotlib.axes._subplots.AxesSubplot at 0x1a317745470>"
      ]
     },
     "execution_count": 91,
     "metadata": {},
     "output_type": "execute_result"
    },
    {
     "data": {
      "image/png": "[encoded data removed]",
      "text/plain": [
       "<Figure size 648x576 with 1 Axes>"
      ]
     },
     "metadata": {
      "needs_background": "light"
     },
     "output_type": "display_data"
    }
   ],
   "source": [
    "plt.figure(figsize = (9,8))\n",
    "sns.barplot(y= newdata['Teams'],x=newdata['Awayshots'])"
   ]
  },
  {
   "cell_type": "code",
   "execution_count": 92,
   "metadata": {},
   "outputs": [],
   "source": [
    "#Number of Homeshots"
   ]
  },
  {
   "cell_type": "code",
   "execution_count": 93,
   "metadata": {},
   "outputs": [
    {
     "data": {
      "text/plain": [
       "<matplotlib.axes._subplots.AxesSubplot at 0x1a317c6eda0>"
      ]
     },
     "execution_count": 93,
     "metadata": {},
     "output_type": "execute_result"
    },
    {
     "data": {
      "image/png": "[encoded data removed]",
      "text/plain": [
       "<Figure size 648x576 with 1 Axes>"
      ]
     },
     "metadata": {
      "needs_background": "light"
     },
     "output_type": "display_data"
    }
   ],
   "source": [
    "plt.figure(figsize = (9,8))\n",
    "sns.barplot(y= newdata['Teams'],x=newdata['Homeshots'])"
   ]
  },
  {
   "cell_type": "code",
   "execution_count": 94,
   "metadata": {},
   "outputs": [],
   "source": [
    "da12_13=pd.DataFrame(modi_data[modi_data['Year'] == '2012-13']['HomeTeam'].value_counts())\n",
    "da13_14=pd.DataFrame(modi_data[modi_data['Year'] == '2013-14']['HomeTeam'].value_counts())\n",
    "da14_15=pd.DataFrame(modi_data[modi_data['Year'] == '2014-15']['HomeTeam'].value_counts())\n",
    "da15_16=pd.DataFrame(modi_data[modi_data['Year'] == '2015-16']['HomeTeam'].value_counts())"
   ]
  },
  {
   "cell_type": "code",
   "execution_count": 95,
   "metadata": {},
   "outputs": [],
   "source": [
    "da12_13.rename(columns={'HomeTeam':\"Season12_13\"},inplace = True)\n",
    "da13_14.rename(columns={'HomeTeam':\"Season13_14\"},inplace = True)\n",
    "da14_15.rename(columns={'HomeTeam':\"Season14_15\"},inplace = True)\n",
    "da15_16.rename(columns={'HomeTeam':\"Season15_16\"},inplace = True)"
   ]
  },
  {
   "cell_type": "code",
   "execution_count": 96,
   "metadata": {},
   "outputs": [
    {
     "name": "stderr",
     "output_type": "stream",
     "text": [
      "G:\\Python_And_Jupytor\\lib\\site-packages\\ipykernel_launcher.py:1: FutureWarning: Sorting because non-concatenation axis is not aligned. A future version\n",
      "of pandas will change to not sort by default.\n",
      "\n",
      "To accept the future behavior, pass 'sort=False'.\n",
      "\n",
      "To retain the current behavior and silence the warning, pass 'sort=True'.\n",
      "\n",
      "  \"\"\"Entry point for launching an IPython kernel.\n"
     ]
    },
    {
     "data": {
      "text/html": [
       "<div>\n",
       "<style scoped>\n",
       "    .dataframe tbody tr th:only-of-type {\n",
       "        vertical-align: middle;\n",
       "    }\n",
       "\n",
       "    .dataframe tbody tr th {\n",
       "        vertical-align: top;\n",
       "    }\n",
       "\n",
       "    .dataframe thead th {\n",
       "        text-align: right;\n",
       "    }\n",
       "</style>\n",
       "<table border=\"1\" class=\"dataframe\">\n",
       "  <thead>\n",
       "    <tr style=\"text-align: right;\">\n",
       "      <th></th>\n",
       "      <th>Season12_13</th>\n",
       "      <th>Season13_14</th>\n",
       "      <th>Season14_15</th>\n",
       "      <th>Season15_16</th>\n",
       "    </tr>\n",
       "  </thead>\n",
       "  <tbody>\n",
       "    <tr>\n",
       "      <th>Arsenal</th>\n",
       "      <td>19.0</td>\n",
       "      <td>19.0</td>\n",
       "      <td>19.0</td>\n",
       "      <td>19.0</td>\n",
       "    </tr>\n",
       "    <tr>\n",
       "      <th>Aston Villa</th>\n",
       "      <td>19.0</td>\n",
       "      <td>19.0</td>\n",
       "      <td>19.0</td>\n",
       "      <td>19.0</td>\n",
       "    </tr>\n",
       "    <tr>\n",
       "      <th>Bournemouth</th>\n",
       "      <td>NaN</td>\n",
       "      <td>NaN</td>\n",
       "      <td>NaN</td>\n",
       "      <td>19.0</td>\n",
       "    </tr>\n",
       "    <tr>\n",
       "      <th>Burnley</th>\n",
       "      <td>NaN</td>\n",
       "      <td>NaN</td>\n",
       "      <td>19.0</td>\n",
       "      <td>NaN</td>\n",
       "    </tr>\n",
       "    <tr>\n",
       "      <th>Cardiff</th>\n",
       "      <td>NaN</td>\n",
       "      <td>19.0</td>\n",
       "      <td>NaN</td>\n",
       "      <td>NaN</td>\n",
       "    </tr>\n",
       "    <tr>\n",
       "      <th>Chelsea</th>\n",
       "      <td>19.0</td>\n",
       "      <td>19.0</td>\n",
       "      <td>19.0</td>\n",
       "      <td>19.0</td>\n",
       "    </tr>\n",
       "    <tr>\n",
       "      <th>Crystal Palace</th>\n",
       "      <td>NaN</td>\n",
       "      <td>19.0</td>\n",
       "      <td>19.0</td>\n",
       "      <td>19.0</td>\n",
       "    </tr>\n",
       "    <tr>\n",
       "      <th>Everton</th>\n",
       "      <td>19.0</td>\n",
       "      <td>19.0</td>\n",
       "      <td>19.0</td>\n",
       "      <td>19.0</td>\n",
       "    </tr>\n",
       "    <tr>\n",
       "      <th>Fulham</th>\n",
       "      <td>19.0</td>\n",
       "      <td>19.0</td>\n",
       "      <td>NaN</td>\n",
       "      <td>NaN</td>\n",
       "    </tr>\n",
       "    <tr>\n",
       "      <th>Hull</th>\n",
       "      <td>NaN</td>\n",
       "      <td>19.0</td>\n",
       "      <td>19.0</td>\n",
       "      <td>NaN</td>\n",
       "    </tr>\n",
       "    <tr>\n",
       "      <th>Leicester</th>\n",
       "      <td>NaN</td>\n",
       "      <td>NaN</td>\n",
       "      <td>19.0</td>\n",
       "      <td>19.0</td>\n",
       "    </tr>\n",
       "    <tr>\n",
       "      <th>Liverpool</th>\n",
       "      <td>19.0</td>\n",
       "      <td>19.0</td>\n",
       "      <td>19.0</td>\n",
       "      <td>19.0</td>\n",
       "    </tr>\n",
       "    <tr>\n",
       "      <th>Man City</th>\n",
       "      <td>19.0</td>\n",
       "      <td>19.0</td>\n",
       "      <td>19.0</td>\n",
       "      <td>19.0</td>\n",
       "    </tr>\n",
       "    <tr>\n",
       "      <th>Man United</th>\n",
       "      <td>19.0</td>\n",
       "      <td>19.0</td>\n",
       "      <td>19.0</td>\n",
       "      <td>19.0</td>\n",
       "    </tr>\n",
       "    <tr>\n",
       "      <th>Newcastle</th>\n",
       "      <td>19.0</td>\n",
       "      <td>19.0</td>\n",
       "      <td>19.0</td>\n",
       "      <td>19.0</td>\n",
       "    </tr>\n",
       "    <tr>\n",
       "      <th>Norwich</th>\n",
       "      <td>19.0</td>\n",
       "      <td>19.0</td>\n",
       "      <td>NaN</td>\n",
       "      <td>19.0</td>\n",
       "    </tr>\n",
       "    <tr>\n",
       "      <th>QPR</th>\n",
       "      <td>19.0</td>\n",
       "      <td>NaN</td>\n",
       "      <td>19.0</td>\n",
       "      <td>NaN</td>\n",
       "    </tr>\n",
       "    <tr>\n",
       "      <th>Reading</th>\n",
       "      <td>19.0</td>\n",
       "      <td>NaN</td>\n",
       "      <td>NaN</td>\n",
       "      <td>NaN</td>\n",
       "    </tr>\n",
       "    <tr>\n",
       "      <th>Southampton</th>\n",
       "      <td>19.0</td>\n",
       "      <td>19.0</td>\n",
       "      <td>19.0</td>\n",
       "      <td>19.0</td>\n",
       "    </tr>\n",
       "    <tr>\n",
       "      <th>Stoke</th>\n",
       "      <td>19.0</td>\n",
       "      <td>19.0</td>\n",
       "      <td>19.0</td>\n",
       "      <td>19.0</td>\n",
       "    </tr>\n",
       "    <tr>\n",
       "      <th>Sunderland</th>\n",
       "      <td>19.0</td>\n",
       "      <td>19.0</td>\n",
       "      <td>19.0</td>\n",
       "      <td>19.0</td>\n",
       "    </tr>\n",
       "    <tr>\n",
       "      <th>Swansea</th>\n",
       "      <td>19.0</td>\n",
       "      <td>19.0</td>\n",
       "      <td>19.0</td>\n",
       "      <td>19.0</td>\n",
       "    </tr>\n",
       "    <tr>\n",
       "      <th>Tottenham</th>\n",
       "      <td>19.0</td>\n",
       "      <td>19.0</td>\n",
       "      <td>19.0</td>\n",
       "      <td>19.0</td>\n",
       "    </tr>\n",
       "    <tr>\n",
       "      <th>Watford</th>\n",
       "      <td>NaN</td>\n",
       "      <td>NaN</td>\n",
       "      <td>NaN</td>\n",
       "      <td>19.0</td>\n",
       "    </tr>\n",
       "    <tr>\n",
       "      <th>West Brom</th>\n",
       "      <td>19.0</td>\n",
       "      <td>19.0</td>\n",
       "      <td>19.0</td>\n",
       "      <td>19.0</td>\n",
       "    </tr>\n",
       "    <tr>\n",
       "      <th>West Ham</th>\n",
       "      <td>19.0</td>\n",
       "      <td>19.0</td>\n",
       "      <td>19.0</td>\n",
       "      <td>19.0</td>\n",
       "    </tr>\n",
       "    <tr>\n",
       "      <th>Wigan</th>\n",
       "      <td>19.0</td>\n",
       "      <td>NaN</td>\n",
       "      <td>NaN</td>\n",
       "      <td>NaN</td>\n",
       "    </tr>\n",
       "  </tbody>\n",
       "</table>\n",
       "</div>"
      ],
      "text/plain": [
       "                Season12_13  Season13_14  Season14_15  Season15_16\n",
       "Arsenal                19.0         19.0         19.0         19.0\n",
       "Aston Villa            19.0         19.0         19.0         19.0\n",
       "Bournemouth             NaN          NaN          NaN         19.0\n",
       "Burnley                 NaN          NaN         19.0          NaN\n",
       "Cardiff                 NaN         19.0          NaN          NaN\n",
       "Chelsea                19.0         19.0         19.0         19.0\n",
       "Crystal Palace          NaN         19.0         19.0         19.0\n",
       "Everton                19.0         19.0         19.0         19.0\n",
       "Fulham                 19.0         19.0          NaN          NaN\n",
       "Hull                    NaN         19.0         19.0          NaN\n",
       "Leicester               NaN          NaN         19.0         19.0\n",
       "Liverpool              19.0         19.0         19.0         19.0\n",
       "Man City               19.0         19.0         19.0         19.0\n",
       "Man United             19.0         19.0         19.0         19.0\n",
       "Newcastle              19.0         19.0         19.0         19.0\n",
       "Norwich                19.0         19.0          NaN         19.0\n",
       "QPR                    19.0          NaN         19.0          NaN\n",
       "Reading                19.0          NaN          NaN          NaN\n",
       "Southampton            19.0         19.0         19.0         19.0\n",
       "Stoke                  19.0         19.0         19.0         19.0\n",
       "Sunderland             19.0         19.0         19.0         19.0\n",
       "Swansea                19.0         19.0         19.0         19.0\n",
       "Tottenham              19.0         19.0         19.0         19.0\n",
       "Watford                 NaN          NaN          NaN         19.0\n",
       "West Brom              19.0         19.0         19.0         19.0\n",
       "West Ham               19.0         19.0         19.0         19.0\n",
       "Wigan                  19.0          NaN          NaN          NaN"
      ]
     },
     "execution_count": 96,
     "metadata": {},
     "output_type": "execute_result"
    }
   ],
   "source": [
    "rele = pd.concat([da12_13,da13_14,da14_15,da15_16],axis =1)\n",
    "rele"
   ]
  },
  {
   "cell_type": "code",
   "execution_count": 97,
   "metadata": {},
   "outputs": [],
   "source": [
    "rele.fillna(0,inplace = True)"
   ]
  },
  {
   "cell_type": "code",
   "execution_count": 98,
   "metadata": {
    "scrolled": false
   },
   "outputs": [
    {
     "data": {
      "text/plain": [
       "<matplotlib.axes._subplots.AxesSubplot at 0x1a317a93a20>"
      ]
     },
     "execution_count": 98,
     "metadata": {},
     "output_type": "execute_result"
    },
    {
     "data": {
      "image/png": "[encoded data removed]",
      "text/plain": [
       "<Figure size 648x648 with 2 Axes>"
      ]
     },
     "metadata": {
      "needs_background": "light"
     },
     "output_type": "display_data"
    }
   ],
   "source": [
    "plt.figure(figsize=(9,9))\n",
    "sns.heatmap(rele,linecolor='white',linewidths=1)"
   ]
  },
  {
   "cell_type": "code",
   "execution_count": 107,
   "metadata": {},
   "outputs": [],
   "source": [
    "dataframe1['Homeshots'] = 0\n",
    "dataframe1['Awayshots'] = 0"
   ]
  },
  {
   "cell_type": "code",
   "execution_count": 108,
   "metadata": {},
   "outputs": [
    {
     "name": "stderr",
     "output_type": "stream",
     "text": [
      "G:\\Python_And_Jupytor\\lib\\site-packages\\ipykernel_launcher.py:2: SettingWithCopyWarning: \n",
      "A value is trying to be set on a copy of a slice from a DataFrame\n",
      "\n",
      "See the caveats in the documentation: http://pandas.pydata.org/pandas-docs/stable/user_guide/indexing.html#returning-a-view-versus-a-copy\n",
      "  \n"
     ]
    }
   ],
   "source": [
    "for i in newdata['Teams'].index:\n",
    "    dataframe1['Homeshots'][i] = newdata[newdata['Teams'][i]==dataframe1['Teams']]['Homeshots']"
   ]
  },
  {
   "cell_type": "code",
   "execution_count": 110,
   "metadata": {},
   "outputs": [
    {
     "data": {
      "text/plain": [
       "0    556\n",
       "1    550\n",
       "2    444\n",
       "Name: Homeshots, dtype: int64"
      ]
     },
     "execution_count": 110,
     "metadata": {},
     "output_type": "execute_result"
    }
   ],
   "source": [
    "dataframe1['Homeshots'].head(3)"
   ]
  },
  {
   "cell_type": "code",
   "execution_count": 111,
   "metadata": {},
   "outputs": [
    {
     "name": "stderr",
     "output_type": "stream",
     "text": [
      "G:\\Python_And_Jupytor\\lib\\site-packages\\ipykernel_launcher.py:2: SettingWithCopyWarning: \n",
      "A value is trying to be set on a copy of a slice from a DataFrame\n",
      "\n",
      "See the caveats in the documentation: http://pandas.pydata.org/pandas-docs/stable/user_guide/indexing.html#returning-a-view-versus-a-copy\n",
      "  \n"
     ]
    }
   ],
   "source": [
    "for i in newdata['Teams'].index:\n",
    "    dataframe1['Awayshots'][i] = newdata[newdata['Teams'][i]==dataframe1['Teams']]['Awayshots']"
   ]
  },
  {
   "cell_type": "code",
   "execution_count": 112,
   "metadata": {},
   "outputs": [
    {
     "data": {
      "text/html": [
       "<div>\n",
       "<style scoped>\n",
       "    .dataframe tbody tr th:only-of-type {\n",
       "        vertical-align: middle;\n",
       "    }\n",
       "\n",
       "    .dataframe tbody tr th {\n",
       "        vertical-align: top;\n",
       "    }\n",
       "\n",
       "    .dataframe thead th {\n",
       "        text-align: right;\n",
       "    }\n",
       "</style>\n",
       "<table border=\"1\" class=\"dataframe\">\n",
       "  <thead>\n",
       "    <tr style=\"text-align: right;\">\n",
       "      <th></th>\n",
       "      <th>Teams</th>\n",
       "      <th>HomeTeamWin%</th>\n",
       "      <th>Homelost%</th>\n",
       "      <th>Homedraw%</th>\n",
       "      <th>AwayTeamWin%</th>\n",
       "      <th>Awaydraw%</th>\n",
       "      <th>Awaylost%</th>\n",
       "      <th>OverallWin%</th>\n",
       "      <th>Matches</th>\n",
       "      <th>AwayGoals</th>\n",
       "      <th>HomeGoals</th>\n",
       "      <th>Homeshots</th>\n",
       "      <th>Awayshots</th>\n",
       "    </tr>\n",
       "  </thead>\n",
       "  <tbody>\n",
       "    <tr>\n",
       "      <th>0</th>\n",
       "      <td>Man City</td>\n",
       "      <td>75.00</td>\n",
       "      <td>13.16</td>\n",
       "      <td>11.84</td>\n",
       "      <td>47.37</td>\n",
       "      <td>27.63</td>\n",
       "      <td>25.00</td>\n",
       "      <td>61.185</td>\n",
       "      <td>152</td>\n",
       "      <td>127</td>\n",
       "      <td>195</td>\n",
       "      <td>556</td>\n",
       "      <td>472</td>\n",
       "    </tr>\n",
       "    <tr>\n",
       "      <th>1</th>\n",
       "      <td>Arsenal</td>\n",
       "      <td>63.16</td>\n",
       "      <td>11.84</td>\n",
       "      <td>25.00</td>\n",
       "      <td>51.32</td>\n",
       "      <td>23.68</td>\n",
       "      <td>25.00</td>\n",
       "      <td>57.240</td>\n",
       "      <td>152</td>\n",
       "      <td>121</td>\n",
       "      <td>155</td>\n",
       "      <td>550</td>\n",
       "      <td>424</td>\n",
       "    </tr>\n",
       "    <tr>\n",
       "      <th>2</th>\n",
       "      <td>Man United</td>\n",
       "      <td>67.11</td>\n",
       "      <td>19.74</td>\n",
       "      <td>13.16</td>\n",
       "      <td>46.05</td>\n",
       "      <td>27.63</td>\n",
       "      <td>26.32</td>\n",
       "      <td>56.580</td>\n",
       "      <td>152</td>\n",
       "      <td>119</td>\n",
       "      <td>142</td>\n",
       "      <td>444</td>\n",
       "      <td>358</td>\n",
       "    </tr>\n",
       "    <tr>\n",
       "      <th>3</th>\n",
       "      <td>Chelsea</td>\n",
       "      <td>61.84</td>\n",
       "      <td>10.53</td>\n",
       "      <td>27.63</td>\n",
       "      <td>50.00</td>\n",
       "      <td>23.68</td>\n",
       "      <td>26.32</td>\n",
       "      <td>55.920</td>\n",
       "      <td>152</td>\n",
       "      <td>126</td>\n",
       "      <td>152</td>\n",
       "      <td>553</td>\n",
       "      <td>394</td>\n",
       "    </tr>\n",
       "    <tr>\n",
       "      <th>4</th>\n",
       "      <td>Tottenham</td>\n",
       "      <td>55.26</td>\n",
       "      <td>22.37</td>\n",
       "      <td>22.37</td>\n",
       "      <td>50.00</td>\n",
       "      <td>23.68</td>\n",
       "      <td>26.32</td>\n",
       "      <td>52.630</td>\n",
       "      <td>152</td>\n",
       "      <td>123</td>\n",
       "      <td>125</td>\n",
       "      <td>551</td>\n",
       "      <td>441</td>\n",
       "    </tr>\n",
       "    <tr>\n",
       "      <th>5</th>\n",
       "      <td>Liverpool</td>\n",
       "      <td>56.58</td>\n",
       "      <td>17.11</td>\n",
       "      <td>26.32</td>\n",
       "      <td>43.42</td>\n",
       "      <td>25.00</td>\n",
       "      <td>31.58</td>\n",
       "      <td>50.000</td>\n",
       "      <td>152</td>\n",
       "      <td>138</td>\n",
       "      <td>149</td>\n",
       "      <td>578</td>\n",
       "      <td>463</td>\n",
       "    </tr>\n",
       "    <tr>\n",
       "      <th>6</th>\n",
       "      <td>Leicester</td>\n",
       "      <td>50.00</td>\n",
       "      <td>21.05</td>\n",
       "      <td>28.95</td>\n",
       "      <td>39.47</td>\n",
       "      <td>23.68</td>\n",
       "      <td>36.84</td>\n",
       "      <td>44.735</td>\n",
       "      <td>76</td>\n",
       "      <td>51</td>\n",
       "      <td>63</td>\n",
       "      <td>172</td>\n",
       "      <td>146</td>\n",
       "    </tr>\n",
       "    <tr>\n",
       "      <th>7</th>\n",
       "      <td>Everton</td>\n",
       "      <td>50.00</td>\n",
       "      <td>22.37</td>\n",
       "      <td>27.63</td>\n",
       "      <td>28.95</td>\n",
       "      <td>36.84</td>\n",
       "      <td>34.21</td>\n",
       "      <td>39.475</td>\n",
       "      <td>152</td>\n",
       "      <td>90</td>\n",
       "      <td>133</td>\n",
       "      <td>471</td>\n",
       "      <td>386</td>\n",
       "    </tr>\n",
       "    <tr>\n",
       "      <th>8</th>\n",
       "      <td>Southampton</td>\n",
       "      <td>47.37</td>\n",
       "      <td>26.32</td>\n",
       "      <td>26.32</td>\n",
       "      <td>31.58</td>\n",
       "      <td>26.32</td>\n",
       "      <td>42.11</td>\n",
       "      <td>39.475</td>\n",
       "      <td>152</td>\n",
       "      <td>82</td>\n",
       "      <td>134</td>\n",
       "      <td>435</td>\n",
       "      <td>335</td>\n",
       "    </tr>\n",
       "    <tr>\n",
       "      <th>9</th>\n",
       "      <td>West Ham</td>\n",
       "      <td>44.74</td>\n",
       "      <td>28.95</td>\n",
       "      <td>26.32</td>\n",
       "      <td>22.37</td>\n",
       "      <td>28.95</td>\n",
       "      <td>48.68</td>\n",
       "      <td>33.555</td>\n",
       "      <td>152</td>\n",
       "      <td>76</td>\n",
       "      <td>118</td>\n",
       "      <td>408</td>\n",
       "      <td>297</td>\n",
       "    </tr>\n",
       "    <tr>\n",
       "      <th>10</th>\n",
       "      <td>Stoke</td>\n",
       "      <td>46.05</td>\n",
       "      <td>27.63</td>\n",
       "      <td>26.32</td>\n",
       "      <td>21.05</td>\n",
       "      <td>31.58</td>\n",
       "      <td>47.37</td>\n",
       "      <td>33.550</td>\n",
       "      <td>152</td>\n",
       "      <td>66</td>\n",
       "      <td>102</td>\n",
       "      <td>309</td>\n",
       "      <td>261</td>\n",
       "    </tr>\n",
       "    <tr>\n",
       "      <th>11</th>\n",
       "      <td>Swansea</td>\n",
       "      <td>38.16</td>\n",
       "      <td>30.26</td>\n",
       "      <td>31.58</td>\n",
       "      <td>27.63</td>\n",
       "      <td>22.37</td>\n",
       "      <td>50.00</td>\n",
       "      <td>32.895</td>\n",
       "      <td>152</td>\n",
       "      <td>81</td>\n",
       "      <td>108</td>\n",
       "      <td>400</td>\n",
       "      <td>308</td>\n",
       "    </tr>\n",
       "    <tr>\n",
       "      <th>12</th>\n",
       "      <td>Crystal Palace</td>\n",
       "      <td>35.09</td>\n",
       "      <td>49.12</td>\n",
       "      <td>15.79</td>\n",
       "      <td>29.82</td>\n",
       "      <td>26.32</td>\n",
       "      <td>43.86</td>\n",
       "      <td>32.455</td>\n",
       "      <td>114</td>\n",
       "      <td>61</td>\n",
       "      <td>58</td>\n",
       "      <td>241</td>\n",
       "      <td>193</td>\n",
       "    </tr>\n",
       "    <tr>\n",
       "      <th>13</th>\n",
       "      <td>Watford</td>\n",
       "      <td>31.58</td>\n",
       "      <td>36.84</td>\n",
       "      <td>31.58</td>\n",
       "      <td>31.58</td>\n",
       "      <td>15.79</td>\n",
       "      <td>52.63</td>\n",
       "      <td>31.580</td>\n",
       "      <td>38</td>\n",
       "      <td>20</td>\n",
       "      <td>20</td>\n",
       "      <td>74</td>\n",
       "      <td>62</td>\n",
       "    </tr>\n",
       "    <tr>\n",
       "      <th>14</th>\n",
       "      <td>Newcastle</td>\n",
       "      <td>40.79</td>\n",
       "      <td>38.16</td>\n",
       "      <td>21.05</td>\n",
       "      <td>18.42</td>\n",
       "      <td>19.74</td>\n",
       "      <td>61.84</td>\n",
       "      <td>29.605</td>\n",
       "      <td>152</td>\n",
       "      <td>67</td>\n",
       "      <td>105</td>\n",
       "      <td>409</td>\n",
       "      <td>322</td>\n",
       "    </tr>\n",
       "    <tr>\n",
       "      <th>15</th>\n",
       "      <td>Bournemouth</td>\n",
       "      <td>26.32</td>\n",
       "      <td>47.37</td>\n",
       "      <td>26.32</td>\n",
       "      <td>31.58</td>\n",
       "      <td>21.05</td>\n",
       "      <td>47.37</td>\n",
       "      <td>28.950</td>\n",
       "      <td>38</td>\n",
       "      <td>22</td>\n",
       "      <td>23</td>\n",
       "      <td>83</td>\n",
       "      <td>61</td>\n",
       "    </tr>\n",
       "    <tr>\n",
       "      <th>16</th>\n",
       "      <td>West Brom</td>\n",
       "      <td>34.21</td>\n",
       "      <td>36.84</td>\n",
       "      <td>28.95</td>\n",
       "      <td>21.05</td>\n",
       "      <td>31.58</td>\n",
       "      <td>47.37</td>\n",
       "      <td>27.630</td>\n",
       "      <td>152</td>\n",
       "      <td>68</td>\n",
       "      <td>100</td>\n",
       "      <td>357</td>\n",
       "      <td>277</td>\n",
       "    </tr>\n",
       "    <tr>\n",
       "      <th>17</th>\n",
       "      <td>Fulham</td>\n",
       "      <td>31.58</td>\n",
       "      <td>52.63</td>\n",
       "      <td>15.79</td>\n",
       "      <td>21.05</td>\n",
       "      <td>23.68</td>\n",
       "      <td>55.26</td>\n",
       "      <td>26.315</td>\n",
       "      <td>76</td>\n",
       "      <td>38</td>\n",
       "      <td>52</td>\n",
       "      <td>236</td>\n",
       "      <td>157</td>\n",
       "    </tr>\n",
       "    <tr>\n",
       "      <th>18</th>\n",
       "      <td>Wigan</td>\n",
       "      <td>21.05</td>\n",
       "      <td>47.37</td>\n",
       "      <td>31.58</td>\n",
       "      <td>26.32</td>\n",
       "      <td>15.79</td>\n",
       "      <td>57.89</td>\n",
       "      <td>23.685</td>\n",
       "      <td>38</td>\n",
       "      <td>21</td>\n",
       "      <td>26</td>\n",
       "      <td>137</td>\n",
       "      <td>120</td>\n",
       "    </tr>\n",
       "    <tr>\n",
       "      <th>19</th>\n",
       "      <td>Norwich</td>\n",
       "      <td>35.09</td>\n",
       "      <td>33.33</td>\n",
       "      <td>31.58</td>\n",
       "      <td>12.28</td>\n",
       "      <td>21.05</td>\n",
       "      <td>66.67</td>\n",
       "      <td>23.685</td>\n",
       "      <td>114</td>\n",
       "      <td>40</td>\n",
       "      <td>68</td>\n",
       "      <td>269</td>\n",
       "      <td>206</td>\n",
       "    </tr>\n",
       "    <tr>\n",
       "      <th>20</th>\n",
       "      <td>Hull</td>\n",
       "      <td>31.58</td>\n",
       "      <td>44.74</td>\n",
       "      <td>23.68</td>\n",
       "      <td>15.79</td>\n",
       "      <td>23.68</td>\n",
       "      <td>60.53</td>\n",
       "      <td>23.685</td>\n",
       "      <td>76</td>\n",
       "      <td>32</td>\n",
       "      <td>39</td>\n",
       "      <td>151</td>\n",
       "      <td>109</td>\n",
       "    </tr>\n",
       "    <tr>\n",
       "      <th>21</th>\n",
       "      <td>Sunderland</td>\n",
       "      <td>26.32</td>\n",
       "      <td>40.79</td>\n",
       "      <td>32.89</td>\n",
       "      <td>19.74</td>\n",
       "      <td>31.58</td>\n",
       "      <td>48.68</td>\n",
       "      <td>23.030</td>\n",
       "      <td>152</td>\n",
       "      <td>81</td>\n",
       "      <td>80</td>\n",
       "      <td>330</td>\n",
       "      <td>300</td>\n",
       "    </tr>\n",
       "    <tr>\n",
       "      <th>22</th>\n",
       "      <td>Aston Villa</td>\n",
       "      <td>23.68</td>\n",
       "      <td>51.32</td>\n",
       "      <td>25.00</td>\n",
       "      <td>19.74</td>\n",
       "      <td>21.05</td>\n",
       "      <td>59.21</td>\n",
       "      <td>21.710</td>\n",
       "      <td>152</td>\n",
       "      <td>67</td>\n",
       "      <td>77</td>\n",
       "      <td>326</td>\n",
       "      <td>271</td>\n",
       "    </tr>\n",
       "    <tr>\n",
       "      <th>23</th>\n",
       "      <td>Cardiff</td>\n",
       "      <td>26.32</td>\n",
       "      <td>47.37</td>\n",
       "      <td>26.32</td>\n",
       "      <td>10.53</td>\n",
       "      <td>21.05</td>\n",
       "      <td>68.42</td>\n",
       "      <td>18.425</td>\n",
       "      <td>38</td>\n",
       "      <td>12</td>\n",
       "      <td>20</td>\n",
       "      <td>74</td>\n",
       "      <td>52</td>\n",
       "    </tr>\n",
       "    <tr>\n",
       "      <th>24</th>\n",
       "      <td>Burnley</td>\n",
       "      <td>21.05</td>\n",
       "      <td>42.11</td>\n",
       "      <td>36.84</td>\n",
       "      <td>15.79</td>\n",
       "      <td>26.32</td>\n",
       "      <td>57.89</td>\n",
       "      <td>18.420</td>\n",
       "      <td>38</td>\n",
       "      <td>14</td>\n",
       "      <td>14</td>\n",
       "      <td>70</td>\n",
       "      <td>55</td>\n",
       "    </tr>\n",
       "    <tr>\n",
       "      <th>25</th>\n",
       "      <td>Reading</td>\n",
       "      <td>21.05</td>\n",
       "      <td>36.84</td>\n",
       "      <td>42.11</td>\n",
       "      <td>10.53</td>\n",
       "      <td>10.53</td>\n",
       "      <td>78.95</td>\n",
       "      <td>15.790</td>\n",
       "      <td>38</td>\n",
       "      <td>20</td>\n",
       "      <td>23</td>\n",
       "      <td>85</td>\n",
       "      <td>94</td>\n",
       "    </tr>\n",
       "    <tr>\n",
       "      <th>26</th>\n",
       "      <td>QPR</td>\n",
       "      <td>21.05</td>\n",
       "      <td>44.74</td>\n",
       "      <td>34.21</td>\n",
       "      <td>10.53</td>\n",
       "      <td>15.79</td>\n",
       "      <td>73.68</td>\n",
       "      <td>15.790</td>\n",
       "      <td>76</td>\n",
       "      <td>36</td>\n",
       "      <td>36</td>\n",
       "      <td>223</td>\n",
       "      <td>173</td>\n",
       "    </tr>\n",
       "  </tbody>\n",
       "</table>\n",
       "</div>"
      ],
      "text/plain": [
       "             Teams  HomeTeamWin%  Homelost%  Homedraw%  AwayTeamWin%  \\\n",
       "0         Man City         75.00      13.16      11.84         47.37   \n",
       "1          Arsenal         63.16      11.84      25.00         51.32   \n",
       "2       Man United         67.11      19.74      13.16         46.05   \n",
       "3          Chelsea         61.84      10.53      27.63         50.00   \n",
       "4        Tottenham         55.26      22.37      22.37         50.00   \n",
       "5        Liverpool         56.58      17.11      26.32         43.42   \n",
       "6        Leicester         50.00      21.05      28.95         39.47   \n",
       "7          Everton         50.00      22.37      27.63         28.95   \n",
       "8      Southampton         47.37      26.32      26.32         31.58   \n",
       "9         West Ham         44.74      28.95      26.32         22.37   \n",
       "10           Stoke         46.05      27.63      26.32         21.05   \n",
       "11         Swansea         38.16      30.26      31.58         27.63   \n",
       "12  Crystal Palace         35.09      49.12      15.79         29.82   \n",
       "13         Watford         31.58      36.84      31.58         31.58   \n",
       "14       Newcastle         40.79      38.16      21.05         18.42   \n",
       "15     Bournemouth         26.32      47.37      26.32         31.58   \n",
       "16       West Brom         34.21      36.84      28.95         21.05   \n",
       "17          Fulham         31.58      52.63      15.79         21.05   \n",
       "18           Wigan         21.05      47.37      31.58         26.32   \n",
       "19         Norwich         35.09      33.33      31.58         12.28   \n",
       "20            Hull         31.58      44.74      23.68         15.79   \n",
       "21      Sunderland         26.32      40.79      32.89         19.74   \n",
       "22     Aston Villa         23.68      51.32      25.00         19.74   \n",
       "23         Cardiff         26.32      47.37      26.32         10.53   \n",
       "24         Burnley         21.05      42.11      36.84         15.79   \n",
       "25         Reading         21.05      36.84      42.11         10.53   \n",
       "26             QPR         21.05      44.74      34.21         10.53   \n",
       "\n",
       "    Awaydraw%  Awaylost%  OverallWin%  Matches  AwayGoals  HomeGoals  \\\n",
       "0       27.63      25.00       61.185      152        127        195   \n",
       "1       23.68      25.00       57.240      152        121        155   \n",
       "2       27.63      26.32       56.580      152        119        142   \n",
       "3       23.68      26.32       55.920      152        126        152   \n",
       "4       23.68      26.32       52.630      152        123        125   \n",
       "5       25.00      31.58       50.000      152        138        149   \n",
       "6       23.68      36.84       44.735       76         51         63   \n",
       "7       36.84      34.21       39.475      152         90        133   \n",
       "8       26.32      42.11       39.475      152         82        134   \n",
       "9       28.95      48.68       33.555      152         76        118   \n",
       "10      31.58      47.37       33.550      152         66        102   \n",
       "11      22.37      50.00       32.895      152         81        108   \n",
       "12      26.32      43.86       32.455      114         61         58   \n",
       "13      15.79      52.63       31.580       38         20         20   \n",
       "14      19.74      61.84       29.605      152         67        105   \n",
       "15      21.05      47.37       28.950       38         22         23   \n",
       "16      31.58      47.37       27.630      152         68        100   \n",
       "17      23.68      55.26       26.315       76         38         52   \n",
       "18      15.79      57.89       23.685       38         21         26   \n",
       "19      21.05      66.67       23.685      114         40         68   \n",
       "20      23.68      60.53       23.685       76         32         39   \n",
       "21      31.58      48.68       23.030      152         81         80   \n",
       "22      21.05      59.21       21.710      152         67         77   \n",
       "23      21.05      68.42       18.425       38         12         20   \n",
       "24      26.32      57.89       18.420       38         14         14   \n",
       "25      10.53      78.95       15.790       38         20         23   \n",
       "26      15.79      73.68       15.790       76         36         36   \n",
       "\n",
       "    Homeshots  Awayshots  \n",
       "0         556        472  \n",
       "1         550        424  \n",
       "2         444        358  \n",
       "3         553        394  \n",
       "4         551        441  \n",
       "5         578        463  \n",
       "6         172        146  \n",
       "7         471        386  \n",
       "8         435        335  \n",
       "9         408        297  \n",
       "10        309        261  \n",
       "11        400        308  \n",
       "12        241        193  \n",
       "13         74         62  \n",
       "14        409        322  \n",
       "15         83         61  \n",
       "16        357        277  \n",
       "17        236        157  \n",
       "18        137        120  \n",
       "19        269        206  \n",
       "20        151        109  \n",
       "21        330        300  \n",
       "22        326        271  \n",
       "23         74         52  \n",
       "24         70         55  \n",
       "25         85         94  \n",
       "26        223        173  "
      ]
     },
     "execution_count": 112,
     "metadata": {},
     "output_type": "execute_result"
    }
   ],
   "source": [
    "dataframe1"
   ]
  },
  {
   "cell_type": "code",
   "execution_count": 113,
   "metadata": {},
   "outputs": [],
   "source": [
    "correc= dataframe1.corr()"
   ]
  },
  {
   "cell_type": "code",
   "execution_count": null,
   "metadata": {},
   "outputs": [],
   "source": [
    "#HomeGoals and Awaygoals are highly correlated with Homeshots and Awayshots"
   ]
  },
  {
   "cell_type": "code",
   "execution_count": 114,
   "metadata": {},
   "outputs": [
    {
     "data": {
      "text/plain": [
       "<matplotlib.axes._subplots.AxesSubplot at 0x1a319f9abe0>"
      ]
     },
     "execution_count": 114,
     "metadata": {},
     "output_type": "execute_result"
    },
    {
     "data": {
      "image/png": "[encoded data removed]",
      "text/plain": [
       "<Figure size 432x288 with 2 Axes>"
      ]
     },
     "metadata": {
      "needs_background": "light"
     },
     "output_type": "display_data"
    }
   ],
   "source": [
    "sns.heatmap(correc)"
   ]
  },
  {
   "cell_type": "code",
   "execution_count": 118,
   "metadata": {},
   "outputs": [
    {
     "data": {
      "image/png": "[encoded data removed]",
      "text/plain": [
       "<Figure size 432x288 with 1 Axes>"
      ]
     },
     "metadata": {
      "needs_background": "light"
     },
     "output_type": "display_data"
    }
   ],
   "source": [
    "plt.scatter(dataframe1['Homeshots'],dataframe1['HomeGoals'])\n",
    "plt.xlabel(\"HomeShots on Target\")\n",
    "plt.ylabel(\"HomeGoals\")\n",
    "plt.show()"
   ]
  },
  {
   "cell_type": "code",
   "execution_count": 119,
   "metadata": {},
   "outputs": [
    {
     "data": {
      "image/png": "[encoded data removed]",
      "text/plain": [
       "<Figure size 432x288 with 1 Axes>"
      ]
     },
     "metadata": {
      "needs_background": "light"
     },
     "output_type": "display_data"
    }
   ],
   "source": [
    "plt.scatter(dataframe1['Awayshots'],dataframe1['AwayGoals'])\n",
    "plt.xlabel(\"AwayShots on Target\")\n",
    "plt.ylabel(\"AwayGoals\")\n",
    "plt.show()"
   ]
  },
  {
   "cell_type": "code",
   "execution_count": null,
   "metadata": {},
   "outputs": [],
   "source": []
  }
 ],
 "metadata": {
  "kernelspec": {
   "display_name": "Python 3",
   "language": "python",
   "name": "python3"
  },
  "language_info": {
   "codemirror_mode": {
    "name": "ipython",
    "version": 3
   },
   "file_extension": ".py",
   "mimetype": "text/x-python",
   "name": "python",
   "nbconvert_exporter": "python",
   "pygments_lexer": "ipython3",
   "version": "3.7.3"
  }
 },
 "nbformat": 4,
 "nbformat_minor": 2
}
